{
 "cells": [
  {
   "cell_type": "markdown",
   "metadata": {},
   "source": [
    "# Selecting Data with SQL"
   ]
  },
  {
   "cell_type": "markdown",
   "metadata": {},
   "source": [
    "## Introduction\n",
    "\n",
    "As a data scientist, the SQL query you'll likely use most often is `SELECT`. This lesson introduces how to use `SELECT` to subset and transform the columns of a database table."
   ]
  },
  {
   "cell_type": "markdown",
   "metadata": {},
   "source": [
    "## Objectives\n",
    "\n",
    "You will be able to:\n",
    "\n",
    "- Retrieve a subset of columns from a table\n",
    "- Create an alias in a SQL query\n",
    "- Use SQL CASE statements to transform selected columns\n",
    "- Use built-in SQL functions to transform selected columns"
   ]
  },
  {
   "cell_type": "markdown",
   "metadata": {},
   "source": [
    "## The Data\n",
    "\n",
    "Below, we connect to a SQLite database using the Python `sqlite3` library ([documentation here](https://docs.python.org/3/library/sqlite3.html)):"
   ]
  },
  {
   "cell_type": "code",
   "execution_count": 1,
   "metadata": {},
   "outputs": [],
   "source": [
    "import sqlite3 \n",
    "conn = sqlite3.connect('data.sqlite')"
   ]
  },
  {
   "cell_type": "markdown",
   "metadata": {},
   "source": [
    "The database that you've just connected to is the same database you have seen previously, containing data about orders, employees, etc. Here's an overview of the database:  \n",
    "\n",
    "<img src=\"https://curriculum-content.s3.amazonaws.com/data-science/images/Database-Schema.png\">"
   ]
  },
  {
   "cell_type": "markdown",
   "metadata": {},
   "source": [
    "For this first section we'll be focusing on the `employees` table.\n",
    "\n",
    "If we want to get all information about the employee records, we might do something like this (`*` means all columns):"
   ]
  },
  {
   "cell_type": "code",
   "execution_count": 2,
   "metadata": {},
   "outputs": [
    {
     "data": {
      "application/vnd.microsoft.datawrangler.viewer.v0+json": {
       "columns": [
        {
         "name": "index",
         "rawType": "int64",
         "type": "integer"
        },
        {
         "name": "employeeNumber",
         "rawType": "object",
         "type": "string"
        },
        {
         "name": "lastName",
         "rawType": "object",
         "type": "string"
        },
        {
         "name": "firstName",
         "rawType": "object",
         "type": "string"
        },
        {
         "name": "extension",
         "rawType": "object",
         "type": "string"
        },
        {
         "name": "email",
         "rawType": "object",
         "type": "string"
        },
        {
         "name": "officeCode",
         "rawType": "object",
         "type": "string"
        },
        {
         "name": "reportsTo",
         "rawType": "object",
         "type": "string"
        },
        {
         "name": "jobTitle",
         "rawType": "object",
         "type": "string"
        }
       ],
       "conversionMethod": "pd.DataFrame",
       "ref": "ed033136-1026-491c-9edc-45643a9e14da",
       "rows": [
        [
         "0",
         "1002",
         "Murphy",
         "Diane",
         "x5800",
         "dmurphy@classicmodelcars.com",
         "1",
         "",
         "President"
        ],
        [
         "1",
         "1056",
         "Patterson",
         "Mary",
         "x4611",
         "mpatterso@classicmodelcars.com",
         "1",
         "1002",
         "VP Sales"
        ],
        [
         "2",
         "1076",
         "Firrelli",
         "Jeff",
         "x9273",
         "jfirrelli@classicmodelcars.com",
         "1",
         "1002",
         "VP Marketing"
        ],
        [
         "3",
         "1088",
         "Patterson",
         "William",
         "x4871",
         "wpatterson@classicmodelcars.com",
         "6",
         "1056",
         "Sales Manager (APAC)"
        ],
        [
         "4",
         "1102",
         "Bondur",
         "Gerard",
         "x5408",
         "gbondur@classicmodelcars.com",
         "4",
         "1056",
         "Sale Manager (EMEA)"
        ],
        [
         "5",
         "1143",
         "Bow",
         "Anthony",
         "x5428",
         "abow@classicmodelcars.com",
         "1",
         "1056",
         "Sales Manager (NA)"
        ],
        [
         "6",
         "1165",
         "Jennings",
         "Leslie",
         "x3291",
         "ljennings@classicmodelcars.com",
         "1",
         "1143",
         "Sales Rep"
        ],
        [
         "7",
         "1166",
         "Thompson",
         "Leslie",
         "x4065",
         "lthompson@classicmodelcars.com",
         "1",
         "1143",
         "Sales Rep"
        ],
        [
         "8",
         "1188",
         "Firrelli",
         "Julie",
         "x2173",
         "jfirrelli@classicmodelcars.com",
         "2",
         "1143",
         "Sales Rep"
        ],
        [
         "9",
         "1216",
         "Patterson",
         "Steve",
         "x4334",
         "spatterson@classicmodelcars.com",
         "2",
         "1143",
         "Sales Rep"
        ],
        [
         "10",
         "1286",
         "Tseng",
         "Foon Yue",
         "x2248",
         "ftseng@classicmodelcars.com",
         "3",
         "1143",
         "Sales Rep"
        ],
        [
         "11",
         "1323",
         "Vanauf",
         "George",
         "x4102",
         "gvanauf@classicmodelcars.com",
         "3",
         "1143",
         "Sales Rep"
        ],
        [
         "12",
         "1337",
         "Bondur",
         "Loui",
         "x6493",
         "lbondur@classicmodelcars.com",
         "4",
         "1102",
         "Sales Rep"
        ],
        [
         "13",
         "1370",
         "Hernandez",
         "Gerard",
         "x2028",
         "ghernande@classicmodelcars.com",
         "4",
         "1102",
         "Sales Rep"
        ],
        [
         "14",
         "1401",
         "Castillo",
         "Pamela",
         "x2759",
         "pcastillo@classicmodelcars.com",
         "4",
         "1102",
         "Sales Rep"
        ],
        [
         "15",
         "1501",
         "Bott",
         "Larry",
         "x2311",
         "lbott@classicmodelcars.com",
         "7",
         "1102",
         "Sales Rep"
        ],
        [
         "16",
         "1504",
         "Jones",
         "Barry",
         "x102",
         "bjones@classicmodelcars.com",
         "7",
         "1102",
         "Sales Rep"
        ],
        [
         "17",
         "1611",
         "Fixter",
         "Andy",
         "x101",
         "afixter@classicmodelcars.com",
         "6",
         "1088",
         "Sales Rep"
        ],
        [
         "18",
         "1612",
         "Marsh",
         "Peter",
         "x102",
         "pmarsh@classicmodelcars.com",
         "6",
         "1088",
         "Sales Rep"
        ],
        [
         "19",
         "1619",
         "King",
         "Tom",
         "x103",
         "tking@classicmodelcars.com",
         "6",
         "1088",
         "Sales Rep"
        ],
        [
         "20",
         "1621",
         "Nishi",
         "Mami",
         "x101",
         "mnishi@classicmodelcars.com",
         "5",
         "1056",
         "Sales Rep"
        ],
        [
         "21",
         "1625",
         "Kato",
         "Yoshimi",
         "x102",
         "ykato@classicmodelcars.com",
         "5",
         "1621",
         "Sales Rep"
        ],
        [
         "22",
         "1702",
         "Gerard",
         "Martin",
         "x2312",
         "mgerard@classicmodelcars.com",
         "4",
         "1102",
         "Sales Rep"
        ]
       ],
       "shape": {
        "columns": 8,
        "rows": 23
       }
      },
      "text/html": [
       "<div>\n",
       "<style scoped>\n",
       "    .dataframe tbody tr th:only-of-type {\n",
       "        vertical-align: middle;\n",
       "    }\n",
       "\n",
       "    .dataframe tbody tr th {\n",
       "        vertical-align: top;\n",
       "    }\n",
       "\n",
       "    .dataframe thead th {\n",
       "        text-align: right;\n",
       "    }\n",
       "</style>\n",
       "<table border=\"1\" class=\"dataframe\">\n",
       "  <thead>\n",
       "    <tr style=\"text-align: right;\">\n",
       "      <th></th>\n",
       "      <th>employeeNumber</th>\n",
       "      <th>lastName</th>\n",
       "      <th>firstName</th>\n",
       "      <th>extension</th>\n",
       "      <th>email</th>\n",
       "      <th>officeCode</th>\n",
       "      <th>reportsTo</th>\n",
       "      <th>jobTitle</th>\n",
       "    </tr>\n",
       "  </thead>\n",
       "  <tbody>\n",
       "    <tr>\n",
       "      <th>0</th>\n",
       "      <td>1002</td>\n",
       "      <td>Murphy</td>\n",
       "      <td>Diane</td>\n",
       "      <td>x5800</td>\n",
       "      <td>dmurphy@classicmodelcars.com</td>\n",
       "      <td>1</td>\n",
       "      <td></td>\n",
       "      <td>President</td>\n",
       "    </tr>\n",
       "    <tr>\n",
       "      <th>1</th>\n",
       "      <td>1056</td>\n",
       "      <td>Patterson</td>\n",
       "      <td>Mary</td>\n",
       "      <td>x4611</td>\n",
       "      <td>mpatterso@classicmodelcars.com</td>\n",
       "      <td>1</td>\n",
       "      <td>1002</td>\n",
       "      <td>VP Sales</td>\n",
       "    </tr>\n",
       "    <tr>\n",
       "      <th>2</th>\n",
       "      <td>1076</td>\n",
       "      <td>Firrelli</td>\n",
       "      <td>Jeff</td>\n",
       "      <td>x9273</td>\n",
       "      <td>jfirrelli@classicmodelcars.com</td>\n",
       "      <td>1</td>\n",
       "      <td>1002</td>\n",
       "      <td>VP Marketing</td>\n",
       "    </tr>\n",
       "    <tr>\n",
       "      <th>3</th>\n",
       "      <td>1088</td>\n",
       "      <td>Patterson</td>\n",
       "      <td>William</td>\n",
       "      <td>x4871</td>\n",
       "      <td>wpatterson@classicmodelcars.com</td>\n",
       "      <td>6</td>\n",
       "      <td>1056</td>\n",
       "      <td>Sales Manager (APAC)</td>\n",
       "    </tr>\n",
       "    <tr>\n",
       "      <th>4</th>\n",
       "      <td>1102</td>\n",
       "      <td>Bondur</td>\n",
       "      <td>Gerard</td>\n",
       "      <td>x5408</td>\n",
       "      <td>gbondur@classicmodelcars.com</td>\n",
       "      <td>4</td>\n",
       "      <td>1056</td>\n",
       "      <td>Sale Manager (EMEA)</td>\n",
       "    </tr>\n",
       "    <tr>\n",
       "      <th>5</th>\n",
       "      <td>1143</td>\n",
       "      <td>Bow</td>\n",
       "      <td>Anthony</td>\n",
       "      <td>x5428</td>\n",
       "      <td>abow@classicmodelcars.com</td>\n",
       "      <td>1</td>\n",
       "      <td>1056</td>\n",
       "      <td>Sales Manager (NA)</td>\n",
       "    </tr>\n",
       "    <tr>\n",
       "      <th>6</th>\n",
       "      <td>1165</td>\n",
       "      <td>Jennings</td>\n",
       "      <td>Leslie</td>\n",
       "      <td>x3291</td>\n",
       "      <td>ljennings@classicmodelcars.com</td>\n",
       "      <td>1</td>\n",
       "      <td>1143</td>\n",
       "      <td>Sales Rep</td>\n",
       "    </tr>\n",
       "    <tr>\n",
       "      <th>7</th>\n",
       "      <td>1166</td>\n",
       "      <td>Thompson</td>\n",
       "      <td>Leslie</td>\n",
       "      <td>x4065</td>\n",
       "      <td>lthompson@classicmodelcars.com</td>\n",
       "      <td>1</td>\n",
       "      <td>1143</td>\n",
       "      <td>Sales Rep</td>\n",
       "    </tr>\n",
       "    <tr>\n",
       "      <th>8</th>\n",
       "      <td>1188</td>\n",
       "      <td>Firrelli</td>\n",
       "      <td>Julie</td>\n",
       "      <td>x2173</td>\n",
       "      <td>jfirrelli@classicmodelcars.com</td>\n",
       "      <td>2</td>\n",
       "      <td>1143</td>\n",
       "      <td>Sales Rep</td>\n",
       "    </tr>\n",
       "    <tr>\n",
       "      <th>9</th>\n",
       "      <td>1216</td>\n",
       "      <td>Patterson</td>\n",
       "      <td>Steve</td>\n",
       "      <td>x4334</td>\n",
       "      <td>spatterson@classicmodelcars.com</td>\n",
       "      <td>2</td>\n",
       "      <td>1143</td>\n",
       "      <td>Sales Rep</td>\n",
       "    </tr>\n",
       "    <tr>\n",
       "      <th>10</th>\n",
       "      <td>1286</td>\n",
       "      <td>Tseng</td>\n",
       "      <td>Foon Yue</td>\n",
       "      <td>x2248</td>\n",
       "      <td>ftseng@classicmodelcars.com</td>\n",
       "      <td>3</td>\n",
       "      <td>1143</td>\n",
       "      <td>Sales Rep</td>\n",
       "    </tr>\n",
       "    <tr>\n",
       "      <th>11</th>\n",
       "      <td>1323</td>\n",
       "      <td>Vanauf</td>\n",
       "      <td>George</td>\n",
       "      <td>x4102</td>\n",
       "      <td>gvanauf@classicmodelcars.com</td>\n",
       "      <td>3</td>\n",
       "      <td>1143</td>\n",
       "      <td>Sales Rep</td>\n",
       "    </tr>\n",
       "    <tr>\n",
       "      <th>12</th>\n",
       "      <td>1337</td>\n",
       "      <td>Bondur</td>\n",
       "      <td>Loui</td>\n",
       "      <td>x6493</td>\n",
       "      <td>lbondur@classicmodelcars.com</td>\n",
       "      <td>4</td>\n",
       "      <td>1102</td>\n",
       "      <td>Sales Rep</td>\n",
       "    </tr>\n",
       "    <tr>\n",
       "      <th>13</th>\n",
       "      <td>1370</td>\n",
       "      <td>Hernandez</td>\n",
       "      <td>Gerard</td>\n",
       "      <td>x2028</td>\n",
       "      <td>ghernande@classicmodelcars.com</td>\n",
       "      <td>4</td>\n",
       "      <td>1102</td>\n",
       "      <td>Sales Rep</td>\n",
       "    </tr>\n",
       "    <tr>\n",
       "      <th>14</th>\n",
       "      <td>1401</td>\n",
       "      <td>Castillo</td>\n",
       "      <td>Pamela</td>\n",
       "      <td>x2759</td>\n",
       "      <td>pcastillo@classicmodelcars.com</td>\n",
       "      <td>4</td>\n",
       "      <td>1102</td>\n",
       "      <td>Sales Rep</td>\n",
       "    </tr>\n",
       "    <tr>\n",
       "      <th>15</th>\n",
       "      <td>1501</td>\n",
       "      <td>Bott</td>\n",
       "      <td>Larry</td>\n",
       "      <td>x2311</td>\n",
       "      <td>lbott@classicmodelcars.com</td>\n",
       "      <td>7</td>\n",
       "      <td>1102</td>\n",
       "      <td>Sales Rep</td>\n",
       "    </tr>\n",
       "    <tr>\n",
       "      <th>16</th>\n",
       "      <td>1504</td>\n",
       "      <td>Jones</td>\n",
       "      <td>Barry</td>\n",
       "      <td>x102</td>\n",
       "      <td>bjones@classicmodelcars.com</td>\n",
       "      <td>7</td>\n",
       "      <td>1102</td>\n",
       "      <td>Sales Rep</td>\n",
       "    </tr>\n",
       "    <tr>\n",
       "      <th>17</th>\n",
       "      <td>1611</td>\n",
       "      <td>Fixter</td>\n",
       "      <td>Andy</td>\n",
       "      <td>x101</td>\n",
       "      <td>afixter@classicmodelcars.com</td>\n",
       "      <td>6</td>\n",
       "      <td>1088</td>\n",
       "      <td>Sales Rep</td>\n",
       "    </tr>\n",
       "    <tr>\n",
       "      <th>18</th>\n",
       "      <td>1612</td>\n",
       "      <td>Marsh</td>\n",
       "      <td>Peter</td>\n",
       "      <td>x102</td>\n",
       "      <td>pmarsh@classicmodelcars.com</td>\n",
       "      <td>6</td>\n",
       "      <td>1088</td>\n",
       "      <td>Sales Rep</td>\n",
       "    </tr>\n",
       "    <tr>\n",
       "      <th>19</th>\n",
       "      <td>1619</td>\n",
       "      <td>King</td>\n",
       "      <td>Tom</td>\n",
       "      <td>x103</td>\n",
       "      <td>tking@classicmodelcars.com</td>\n",
       "      <td>6</td>\n",
       "      <td>1088</td>\n",
       "      <td>Sales Rep</td>\n",
       "    </tr>\n",
       "    <tr>\n",
       "      <th>20</th>\n",
       "      <td>1621</td>\n",
       "      <td>Nishi</td>\n",
       "      <td>Mami</td>\n",
       "      <td>x101</td>\n",
       "      <td>mnishi@classicmodelcars.com</td>\n",
       "      <td>5</td>\n",
       "      <td>1056</td>\n",
       "      <td>Sales Rep</td>\n",
       "    </tr>\n",
       "    <tr>\n",
       "      <th>21</th>\n",
       "      <td>1625</td>\n",
       "      <td>Kato</td>\n",
       "      <td>Yoshimi</td>\n",
       "      <td>x102</td>\n",
       "      <td>ykato@classicmodelcars.com</td>\n",
       "      <td>5</td>\n",
       "      <td>1621</td>\n",
       "      <td>Sales Rep</td>\n",
       "    </tr>\n",
       "    <tr>\n",
       "      <th>22</th>\n",
       "      <td>1702</td>\n",
       "      <td>Gerard</td>\n",
       "      <td>Martin</td>\n",
       "      <td>x2312</td>\n",
       "      <td>mgerard@classicmodelcars.com</td>\n",
       "      <td>4</td>\n",
       "      <td>1102</td>\n",
       "      <td>Sales Rep</td>\n",
       "    </tr>\n",
       "  </tbody>\n",
       "</table>\n",
       "</div>"
      ],
      "text/plain": [
       "   employeeNumber   lastName firstName extension  \\\n",
       "0            1002     Murphy     Diane     x5800   \n",
       "1            1056  Patterson      Mary     x4611   \n",
       "2            1076   Firrelli      Jeff     x9273   \n",
       "3            1088  Patterson   William     x4871   \n",
       "4            1102     Bondur    Gerard     x5408   \n",
       "5            1143        Bow   Anthony     x5428   \n",
       "6            1165   Jennings    Leslie     x3291   \n",
       "7            1166   Thompson    Leslie     x4065   \n",
       "8            1188   Firrelli     Julie     x2173   \n",
       "9            1216  Patterson     Steve     x4334   \n",
       "10           1286      Tseng  Foon Yue     x2248   \n",
       "11           1323     Vanauf    George     x4102   \n",
       "12           1337     Bondur      Loui     x6493   \n",
       "13           1370  Hernandez    Gerard     x2028   \n",
       "14           1401   Castillo    Pamela     x2759   \n",
       "15           1501       Bott     Larry     x2311   \n",
       "16           1504      Jones     Barry      x102   \n",
       "17           1611     Fixter      Andy      x101   \n",
       "18           1612      Marsh     Peter      x102   \n",
       "19           1619       King       Tom      x103   \n",
       "20           1621      Nishi      Mami      x101   \n",
       "21           1625       Kato   Yoshimi      x102   \n",
       "22           1702     Gerard    Martin     x2312   \n",
       "\n",
       "                              email officeCode reportsTo              jobTitle  \n",
       "0      dmurphy@classicmodelcars.com          1                       President  \n",
       "1    mpatterso@classicmodelcars.com          1      1002              VP Sales  \n",
       "2    jfirrelli@classicmodelcars.com          1      1002          VP Marketing  \n",
       "3   wpatterson@classicmodelcars.com          6      1056  Sales Manager (APAC)  \n",
       "4      gbondur@classicmodelcars.com          4      1056   Sale Manager (EMEA)  \n",
       "5         abow@classicmodelcars.com          1      1056    Sales Manager (NA)  \n",
       "6    ljennings@classicmodelcars.com          1      1143             Sales Rep  \n",
       "7    lthompson@classicmodelcars.com          1      1143             Sales Rep  \n",
       "8    jfirrelli@classicmodelcars.com          2      1143             Sales Rep  \n",
       "9   spatterson@classicmodelcars.com          2      1143             Sales Rep  \n",
       "10      ftseng@classicmodelcars.com          3      1143             Sales Rep  \n",
       "11     gvanauf@classicmodelcars.com          3      1143             Sales Rep  \n",
       "12     lbondur@classicmodelcars.com          4      1102             Sales Rep  \n",
       "13   ghernande@classicmodelcars.com          4      1102             Sales Rep  \n",
       "14   pcastillo@classicmodelcars.com          4      1102             Sales Rep  \n",
       "15       lbott@classicmodelcars.com          7      1102             Sales Rep  \n",
       "16      bjones@classicmodelcars.com          7      1102             Sales Rep  \n",
       "17     afixter@classicmodelcars.com          6      1088             Sales Rep  \n",
       "18      pmarsh@classicmodelcars.com          6      1088             Sales Rep  \n",
       "19       tking@classicmodelcars.com          6      1088             Sales Rep  \n",
       "20      mnishi@classicmodelcars.com          5      1056             Sales Rep  \n",
       "21       ykato@classicmodelcars.com          5      1621             Sales Rep  \n",
       "22     mgerard@classicmodelcars.com          4      1102             Sales Rep  "
      ]
     },
     "execution_count": 2,
     "metadata": {},
     "output_type": "execute_result"
    }
   ],
   "source": [
    "import pandas as pd\n",
    "pd.read_sql(\n",
    "\"\"\"\n",
    "SELECT * FROM employees;\n",
    "\"\"\", conn) # SQL code is not case-sensitive(can use both upper and lowercase)"
   ]
  },
  {
   "cell_type": "markdown",
   "metadata": {},
   "source": [
    "### Quick Note on String Syntax\n",
    "\n",
    "When working with strings, you may have previously seen a `'string'`, a `\"string\"`, a `'''string'''`, or a `\"\"\"string\"\"\"`. While all of these are strings, the triple quotes have the added functionality of being able to use multiple lines within the same string as well as to use single quotes within the string. Sometimes, SQL queries can be much longer than others, in which case it's helpful to use new lines for readability. Here's the same example, this time with the string spread out onto multiple lines:"
   ]
  },
  {
   "cell_type": "code",
   "execution_count": 3,
   "metadata": {},
   "outputs": [
    {
     "data": {
      "application/vnd.microsoft.datawrangler.viewer.v0+json": {
       "columns": [
        {
         "name": "index",
         "rawType": "int64",
         "type": "integer"
        },
        {
         "name": "employeeNumber",
         "rawType": "object",
         "type": "string"
        },
        {
         "name": "lastName",
         "rawType": "object",
         "type": "string"
        },
        {
         "name": "firstName",
         "rawType": "object",
         "type": "string"
        },
        {
         "name": "extension",
         "rawType": "object",
         "type": "string"
        },
        {
         "name": "email",
         "rawType": "object",
         "type": "string"
        },
        {
         "name": "officeCode",
         "rawType": "object",
         "type": "string"
        },
        {
         "name": "reportsTo",
         "rawType": "object",
         "type": "string"
        },
        {
         "name": "jobTitle",
         "rawType": "object",
         "type": "string"
        }
       ],
       "conversionMethod": "pd.DataFrame",
       "ref": "0e94b1d3-ff4a-487f-8e8f-304117a2abf0",
       "rows": [
        [
         "0",
         "1002",
         "Murphy",
         "Diane",
         "x5800",
         "dmurphy@classicmodelcars.com",
         "1",
         "",
         "President"
        ],
        [
         "1",
         "1056",
         "Patterson",
         "Mary",
         "x4611",
         "mpatterso@classicmodelcars.com",
         "1",
         "1002",
         "VP Sales"
        ],
        [
         "2",
         "1076",
         "Firrelli",
         "Jeff",
         "x9273",
         "jfirrelli@classicmodelcars.com",
         "1",
         "1002",
         "VP Marketing"
        ],
        [
         "3",
         "1088",
         "Patterson",
         "William",
         "x4871",
         "wpatterson@classicmodelcars.com",
         "6",
         "1056",
         "Sales Manager (APAC)"
        ],
        [
         "4",
         "1102",
         "Bondur",
         "Gerard",
         "x5408",
         "gbondur@classicmodelcars.com",
         "4",
         "1056",
         "Sale Manager (EMEA)"
        ],
        [
         "5",
         "1143",
         "Bow",
         "Anthony",
         "x5428",
         "abow@classicmodelcars.com",
         "1",
         "1056",
         "Sales Manager (NA)"
        ],
        [
         "6",
         "1165",
         "Jennings",
         "Leslie",
         "x3291",
         "ljennings@classicmodelcars.com",
         "1",
         "1143",
         "Sales Rep"
        ],
        [
         "7",
         "1166",
         "Thompson",
         "Leslie",
         "x4065",
         "lthompson@classicmodelcars.com",
         "1",
         "1143",
         "Sales Rep"
        ],
        [
         "8",
         "1188",
         "Firrelli",
         "Julie",
         "x2173",
         "jfirrelli@classicmodelcars.com",
         "2",
         "1143",
         "Sales Rep"
        ],
        [
         "9",
         "1216",
         "Patterson",
         "Steve",
         "x4334",
         "spatterson@classicmodelcars.com",
         "2",
         "1143",
         "Sales Rep"
        ],
        [
         "10",
         "1286",
         "Tseng",
         "Foon Yue",
         "x2248",
         "ftseng@classicmodelcars.com",
         "3",
         "1143",
         "Sales Rep"
        ],
        [
         "11",
         "1323",
         "Vanauf",
         "George",
         "x4102",
         "gvanauf@classicmodelcars.com",
         "3",
         "1143",
         "Sales Rep"
        ],
        [
         "12",
         "1337",
         "Bondur",
         "Loui",
         "x6493",
         "lbondur@classicmodelcars.com",
         "4",
         "1102",
         "Sales Rep"
        ],
        [
         "13",
         "1370",
         "Hernandez",
         "Gerard",
         "x2028",
         "ghernande@classicmodelcars.com",
         "4",
         "1102",
         "Sales Rep"
        ],
        [
         "14",
         "1401",
         "Castillo",
         "Pamela",
         "x2759",
         "pcastillo@classicmodelcars.com",
         "4",
         "1102",
         "Sales Rep"
        ],
        [
         "15",
         "1501",
         "Bott",
         "Larry",
         "x2311",
         "lbott@classicmodelcars.com",
         "7",
         "1102",
         "Sales Rep"
        ],
        [
         "16",
         "1504",
         "Jones",
         "Barry",
         "x102",
         "bjones@classicmodelcars.com",
         "7",
         "1102",
         "Sales Rep"
        ],
        [
         "17",
         "1611",
         "Fixter",
         "Andy",
         "x101",
         "afixter@classicmodelcars.com",
         "6",
         "1088",
         "Sales Rep"
        ],
        [
         "18",
         "1612",
         "Marsh",
         "Peter",
         "x102",
         "pmarsh@classicmodelcars.com",
         "6",
         "1088",
         "Sales Rep"
        ],
        [
         "19",
         "1619",
         "King",
         "Tom",
         "x103",
         "tking@classicmodelcars.com",
         "6",
         "1088",
         "Sales Rep"
        ],
        [
         "20",
         "1621",
         "Nishi",
         "Mami",
         "x101",
         "mnishi@classicmodelcars.com",
         "5",
         "1056",
         "Sales Rep"
        ],
        [
         "21",
         "1625",
         "Kato",
         "Yoshimi",
         "x102",
         "ykato@classicmodelcars.com",
         "5",
         "1621",
         "Sales Rep"
        ],
        [
         "22",
         "1702",
         "Gerard",
         "Martin",
         "x2312",
         "mgerard@classicmodelcars.com",
         "4",
         "1102",
         "Sales Rep"
        ]
       ],
       "shape": {
        "columns": 8,
        "rows": 23
       }
      },
      "text/html": [
       "<div>\n",
       "<style scoped>\n",
       "    .dataframe tbody tr th:only-of-type {\n",
       "        vertical-align: middle;\n",
       "    }\n",
       "\n",
       "    .dataframe tbody tr th {\n",
       "        vertical-align: top;\n",
       "    }\n",
       "\n",
       "    .dataframe thead th {\n",
       "        text-align: right;\n",
       "    }\n",
       "</style>\n",
       "<table border=\"1\" class=\"dataframe\">\n",
       "  <thead>\n",
       "    <tr style=\"text-align: right;\">\n",
       "      <th></th>\n",
       "      <th>employeeNumber</th>\n",
       "      <th>lastName</th>\n",
       "      <th>firstName</th>\n",
       "      <th>extension</th>\n",
       "      <th>email</th>\n",
       "      <th>officeCode</th>\n",
       "      <th>reportsTo</th>\n",
       "      <th>jobTitle</th>\n",
       "    </tr>\n",
       "  </thead>\n",
       "  <tbody>\n",
       "    <tr>\n",
       "      <th>0</th>\n",
       "      <td>1002</td>\n",
       "      <td>Murphy</td>\n",
       "      <td>Diane</td>\n",
       "      <td>x5800</td>\n",
       "      <td>dmurphy@classicmodelcars.com</td>\n",
       "      <td>1</td>\n",
       "      <td></td>\n",
       "      <td>President</td>\n",
       "    </tr>\n",
       "    <tr>\n",
       "      <th>1</th>\n",
       "      <td>1056</td>\n",
       "      <td>Patterson</td>\n",
       "      <td>Mary</td>\n",
       "      <td>x4611</td>\n",
       "      <td>mpatterso@classicmodelcars.com</td>\n",
       "      <td>1</td>\n",
       "      <td>1002</td>\n",
       "      <td>VP Sales</td>\n",
       "    </tr>\n",
       "    <tr>\n",
       "      <th>2</th>\n",
       "      <td>1076</td>\n",
       "      <td>Firrelli</td>\n",
       "      <td>Jeff</td>\n",
       "      <td>x9273</td>\n",
       "      <td>jfirrelli@classicmodelcars.com</td>\n",
       "      <td>1</td>\n",
       "      <td>1002</td>\n",
       "      <td>VP Marketing</td>\n",
       "    </tr>\n",
       "    <tr>\n",
       "      <th>3</th>\n",
       "      <td>1088</td>\n",
       "      <td>Patterson</td>\n",
       "      <td>William</td>\n",
       "      <td>x4871</td>\n",
       "      <td>wpatterson@classicmodelcars.com</td>\n",
       "      <td>6</td>\n",
       "      <td>1056</td>\n",
       "      <td>Sales Manager (APAC)</td>\n",
       "    </tr>\n",
       "    <tr>\n",
       "      <th>4</th>\n",
       "      <td>1102</td>\n",
       "      <td>Bondur</td>\n",
       "      <td>Gerard</td>\n",
       "      <td>x5408</td>\n",
       "      <td>gbondur@classicmodelcars.com</td>\n",
       "      <td>4</td>\n",
       "      <td>1056</td>\n",
       "      <td>Sale Manager (EMEA)</td>\n",
       "    </tr>\n",
       "    <tr>\n",
       "      <th>5</th>\n",
       "      <td>1143</td>\n",
       "      <td>Bow</td>\n",
       "      <td>Anthony</td>\n",
       "      <td>x5428</td>\n",
       "      <td>abow@classicmodelcars.com</td>\n",
       "      <td>1</td>\n",
       "      <td>1056</td>\n",
       "      <td>Sales Manager (NA)</td>\n",
       "    </tr>\n",
       "    <tr>\n",
       "      <th>6</th>\n",
       "      <td>1165</td>\n",
       "      <td>Jennings</td>\n",
       "      <td>Leslie</td>\n",
       "      <td>x3291</td>\n",
       "      <td>ljennings@classicmodelcars.com</td>\n",
       "      <td>1</td>\n",
       "      <td>1143</td>\n",
       "      <td>Sales Rep</td>\n",
       "    </tr>\n",
       "    <tr>\n",
       "      <th>7</th>\n",
       "      <td>1166</td>\n",
       "      <td>Thompson</td>\n",
       "      <td>Leslie</td>\n",
       "      <td>x4065</td>\n",
       "      <td>lthompson@classicmodelcars.com</td>\n",
       "      <td>1</td>\n",
       "      <td>1143</td>\n",
       "      <td>Sales Rep</td>\n",
       "    </tr>\n",
       "    <tr>\n",
       "      <th>8</th>\n",
       "      <td>1188</td>\n",
       "      <td>Firrelli</td>\n",
       "      <td>Julie</td>\n",
       "      <td>x2173</td>\n",
       "      <td>jfirrelli@classicmodelcars.com</td>\n",
       "      <td>2</td>\n",
       "      <td>1143</td>\n",
       "      <td>Sales Rep</td>\n",
       "    </tr>\n",
       "    <tr>\n",
       "      <th>9</th>\n",
       "      <td>1216</td>\n",
       "      <td>Patterson</td>\n",
       "      <td>Steve</td>\n",
       "      <td>x4334</td>\n",
       "      <td>spatterson@classicmodelcars.com</td>\n",
       "      <td>2</td>\n",
       "      <td>1143</td>\n",
       "      <td>Sales Rep</td>\n",
       "    </tr>\n",
       "    <tr>\n",
       "      <th>10</th>\n",
       "      <td>1286</td>\n",
       "      <td>Tseng</td>\n",
       "      <td>Foon Yue</td>\n",
       "      <td>x2248</td>\n",
       "      <td>ftseng@classicmodelcars.com</td>\n",
       "      <td>3</td>\n",
       "      <td>1143</td>\n",
       "      <td>Sales Rep</td>\n",
       "    </tr>\n",
       "    <tr>\n",
       "      <th>11</th>\n",
       "      <td>1323</td>\n",
       "      <td>Vanauf</td>\n",
       "      <td>George</td>\n",
       "      <td>x4102</td>\n",
       "      <td>gvanauf@classicmodelcars.com</td>\n",
       "      <td>3</td>\n",
       "      <td>1143</td>\n",
       "      <td>Sales Rep</td>\n",
       "    </tr>\n",
       "    <tr>\n",
       "      <th>12</th>\n",
       "      <td>1337</td>\n",
       "      <td>Bondur</td>\n",
       "      <td>Loui</td>\n",
       "      <td>x6493</td>\n",
       "      <td>lbondur@classicmodelcars.com</td>\n",
       "      <td>4</td>\n",
       "      <td>1102</td>\n",
       "      <td>Sales Rep</td>\n",
       "    </tr>\n",
       "    <tr>\n",
       "      <th>13</th>\n",
       "      <td>1370</td>\n",
       "      <td>Hernandez</td>\n",
       "      <td>Gerard</td>\n",
       "      <td>x2028</td>\n",
       "      <td>ghernande@classicmodelcars.com</td>\n",
       "      <td>4</td>\n",
       "      <td>1102</td>\n",
       "      <td>Sales Rep</td>\n",
       "    </tr>\n",
       "    <tr>\n",
       "      <th>14</th>\n",
       "      <td>1401</td>\n",
       "      <td>Castillo</td>\n",
       "      <td>Pamela</td>\n",
       "      <td>x2759</td>\n",
       "      <td>pcastillo@classicmodelcars.com</td>\n",
       "      <td>4</td>\n",
       "      <td>1102</td>\n",
       "      <td>Sales Rep</td>\n",
       "    </tr>\n",
       "    <tr>\n",
       "      <th>15</th>\n",
       "      <td>1501</td>\n",
       "      <td>Bott</td>\n",
       "      <td>Larry</td>\n",
       "      <td>x2311</td>\n",
       "      <td>lbott@classicmodelcars.com</td>\n",
       "      <td>7</td>\n",
       "      <td>1102</td>\n",
       "      <td>Sales Rep</td>\n",
       "    </tr>\n",
       "    <tr>\n",
       "      <th>16</th>\n",
       "      <td>1504</td>\n",
       "      <td>Jones</td>\n",
       "      <td>Barry</td>\n",
       "      <td>x102</td>\n",
       "      <td>bjones@classicmodelcars.com</td>\n",
       "      <td>7</td>\n",
       "      <td>1102</td>\n",
       "      <td>Sales Rep</td>\n",
       "    </tr>\n",
       "    <tr>\n",
       "      <th>17</th>\n",
       "      <td>1611</td>\n",
       "      <td>Fixter</td>\n",
       "      <td>Andy</td>\n",
       "      <td>x101</td>\n",
       "      <td>afixter@classicmodelcars.com</td>\n",
       "      <td>6</td>\n",
       "      <td>1088</td>\n",
       "      <td>Sales Rep</td>\n",
       "    </tr>\n",
       "    <tr>\n",
       "      <th>18</th>\n",
       "      <td>1612</td>\n",
       "      <td>Marsh</td>\n",
       "      <td>Peter</td>\n",
       "      <td>x102</td>\n",
       "      <td>pmarsh@classicmodelcars.com</td>\n",
       "      <td>6</td>\n",
       "      <td>1088</td>\n",
       "      <td>Sales Rep</td>\n",
       "    </tr>\n",
       "    <tr>\n",
       "      <th>19</th>\n",
       "      <td>1619</td>\n",
       "      <td>King</td>\n",
       "      <td>Tom</td>\n",
       "      <td>x103</td>\n",
       "      <td>tking@classicmodelcars.com</td>\n",
       "      <td>6</td>\n",
       "      <td>1088</td>\n",
       "      <td>Sales Rep</td>\n",
       "    </tr>\n",
       "    <tr>\n",
       "      <th>20</th>\n",
       "      <td>1621</td>\n",
       "      <td>Nishi</td>\n",
       "      <td>Mami</td>\n",
       "      <td>x101</td>\n",
       "      <td>mnishi@classicmodelcars.com</td>\n",
       "      <td>5</td>\n",
       "      <td>1056</td>\n",
       "      <td>Sales Rep</td>\n",
       "    </tr>\n",
       "    <tr>\n",
       "      <th>21</th>\n",
       "      <td>1625</td>\n",
       "      <td>Kato</td>\n",
       "      <td>Yoshimi</td>\n",
       "      <td>x102</td>\n",
       "      <td>ykato@classicmodelcars.com</td>\n",
       "      <td>5</td>\n",
       "      <td>1621</td>\n",
       "      <td>Sales Rep</td>\n",
       "    </tr>\n",
       "    <tr>\n",
       "      <th>22</th>\n",
       "      <td>1702</td>\n",
       "      <td>Gerard</td>\n",
       "      <td>Martin</td>\n",
       "      <td>x2312</td>\n",
       "      <td>mgerard@classicmodelcars.com</td>\n",
       "      <td>4</td>\n",
       "      <td>1102</td>\n",
       "      <td>Sales Rep</td>\n",
       "    </tr>\n",
       "  </tbody>\n",
       "</table>\n",
       "</div>"
      ],
      "text/plain": [
       "   employeeNumber   lastName firstName extension  \\\n",
       "0            1002     Murphy     Diane     x5800   \n",
       "1            1056  Patterson      Mary     x4611   \n",
       "2            1076   Firrelli      Jeff     x9273   \n",
       "3            1088  Patterson   William     x4871   \n",
       "4            1102     Bondur    Gerard     x5408   \n",
       "5            1143        Bow   Anthony     x5428   \n",
       "6            1165   Jennings    Leslie     x3291   \n",
       "7            1166   Thompson    Leslie     x4065   \n",
       "8            1188   Firrelli     Julie     x2173   \n",
       "9            1216  Patterson     Steve     x4334   \n",
       "10           1286      Tseng  Foon Yue     x2248   \n",
       "11           1323     Vanauf    George     x4102   \n",
       "12           1337     Bondur      Loui     x6493   \n",
       "13           1370  Hernandez    Gerard     x2028   \n",
       "14           1401   Castillo    Pamela     x2759   \n",
       "15           1501       Bott     Larry     x2311   \n",
       "16           1504      Jones     Barry      x102   \n",
       "17           1611     Fixter      Andy      x101   \n",
       "18           1612      Marsh     Peter      x102   \n",
       "19           1619       King       Tom      x103   \n",
       "20           1621      Nishi      Mami      x101   \n",
       "21           1625       Kato   Yoshimi      x102   \n",
       "22           1702     Gerard    Martin     x2312   \n",
       "\n",
       "                              email officeCode reportsTo              jobTitle  \n",
       "0      dmurphy@classicmodelcars.com          1                       President  \n",
       "1    mpatterso@classicmodelcars.com          1      1002              VP Sales  \n",
       "2    jfirrelli@classicmodelcars.com          1      1002          VP Marketing  \n",
       "3   wpatterson@classicmodelcars.com          6      1056  Sales Manager (APAC)  \n",
       "4      gbondur@classicmodelcars.com          4      1056   Sale Manager (EMEA)  \n",
       "5         abow@classicmodelcars.com          1      1056    Sales Manager (NA)  \n",
       "6    ljennings@classicmodelcars.com          1      1143             Sales Rep  \n",
       "7    lthompson@classicmodelcars.com          1      1143             Sales Rep  \n",
       "8    jfirrelli@classicmodelcars.com          2      1143             Sales Rep  \n",
       "9   spatterson@classicmodelcars.com          2      1143             Sales Rep  \n",
       "10      ftseng@classicmodelcars.com          3      1143             Sales Rep  \n",
       "11     gvanauf@classicmodelcars.com          3      1143             Sales Rep  \n",
       "12     lbondur@classicmodelcars.com          4      1102             Sales Rep  \n",
       "13   ghernande@classicmodelcars.com          4      1102             Sales Rep  \n",
       "14   pcastillo@classicmodelcars.com          4      1102             Sales Rep  \n",
       "15       lbott@classicmodelcars.com          7      1102             Sales Rep  \n",
       "16      bjones@classicmodelcars.com          7      1102             Sales Rep  \n",
       "17     afixter@classicmodelcars.com          6      1088             Sales Rep  \n",
       "18      pmarsh@classicmodelcars.com          6      1088             Sales Rep  \n",
       "19       tking@classicmodelcars.com          6      1088             Sales Rep  \n",
       "20      mnishi@classicmodelcars.com          5      1056             Sales Rep  \n",
       "21       ykato@classicmodelcars.com          5      1621             Sales Rep  \n",
       "22     mgerard@classicmodelcars.com          4      1102             Sales Rep  "
      ]
     },
     "execution_count": 3,
     "metadata": {},
     "output_type": "execute_result"
    }
   ],
   "source": [
    "pd.read_sql(\n",
    "'''\n",
    "SELECT *\n",
    "FROM employees;\n",
    "''', conn) # We can use the triple quotes as single/double quotes, both work"
   ]
  },
  {
   "cell_type": "markdown",
   "metadata": {},
   "source": [
    "Unlike in Python, whitespace indentation in SQL is not used to indicate scope or any other important information. Therefore this:\n",
    "\n",
    "```sql\n",
    "SELECT *\n",
    "  FROM employees;\n",
    "```\n",
    "\n",
    "(with two spaces in front of `FROM`)\n",
    "\n",
    "is identical to this:\n",
    "\n",
    "```sql\n",
    "SELECT *\n",
    "FROM employees;\n",
    "```\n",
    "\n",
    "(with zero spaces in front of `FROM`)\n",
    "\n",
    "as far as SQL is concerned. However we will be aligning the right edge of the SQL keywords, using a \"river\" of whitespace down the center to improve legibility in this lesson, following [this style guide](https://www.sqlstyle.guide/). You will see multi-line SQL written with various different indentation styles, and you will want to check with your employer to learn what their style guide is."
   ]
  },
  {
   "cell_type": "markdown",
   "metadata": {},
   "source": [
    "## Retrieving a Subset of Columns\n",
    "\n",
    "Once we know what the column names are for a given table, we can select specific columns rather than using `*` to select all of them. This is achieved by replacing the `*` with the names of the columns, separated by commas.\n",
    "\n",
    "For example, if we just wanted to select the last and first names of the employees:"
   ]
  },
  {
   "cell_type": "code",
   "execution_count": 4,
   "metadata": {},
   "outputs": [
    {
     "data": {
      "application/vnd.microsoft.datawrangler.viewer.v0+json": {
       "columns": [
        {
         "name": "index",
         "rawType": "int64",
         "type": "integer"
        },
        {
         "name": "lastName",
         "rawType": "object",
         "type": "string"
        },
        {
         "name": "firstName",
         "rawType": "object",
         "type": "string"
        }
       ],
       "conversionMethod": "pd.DataFrame",
       "ref": "ba08ce13-7f43-47b2-aab6-274db049aff2",
       "rows": [
        [
         "0",
         "Murphy",
         "Diane"
        ],
        [
         "1",
         "Patterson",
         "Mary"
        ],
        [
         "2",
         "Firrelli",
         "Jeff"
        ],
        [
         "3",
         "Patterson",
         "William"
        ],
        [
         "4",
         "Bondur",
         "Gerard"
        ]
       ],
       "shape": {
        "columns": 2,
        "rows": 5
       }
      },
      "text/html": [
       "<div>\n",
       "<style scoped>\n",
       "    .dataframe tbody tr th:only-of-type {\n",
       "        vertical-align: middle;\n",
       "    }\n",
       "\n",
       "    .dataframe tbody tr th {\n",
       "        vertical-align: top;\n",
       "    }\n",
       "\n",
       "    .dataframe thead th {\n",
       "        text-align: right;\n",
       "    }\n",
       "</style>\n",
       "<table border=\"1\" class=\"dataframe\">\n",
       "  <thead>\n",
       "    <tr style=\"text-align: right;\">\n",
       "      <th></th>\n",
       "      <th>lastName</th>\n",
       "      <th>firstName</th>\n",
       "    </tr>\n",
       "  </thead>\n",
       "  <tbody>\n",
       "    <tr>\n",
       "      <th>0</th>\n",
       "      <td>Murphy</td>\n",
       "      <td>Diane</td>\n",
       "    </tr>\n",
       "    <tr>\n",
       "      <th>1</th>\n",
       "      <td>Patterson</td>\n",
       "      <td>Mary</td>\n",
       "    </tr>\n",
       "    <tr>\n",
       "      <th>2</th>\n",
       "      <td>Firrelli</td>\n",
       "      <td>Jeff</td>\n",
       "    </tr>\n",
       "    <tr>\n",
       "      <th>3</th>\n",
       "      <td>Patterson</td>\n",
       "      <td>William</td>\n",
       "    </tr>\n",
       "    <tr>\n",
       "      <th>4</th>\n",
       "      <td>Bondur</td>\n",
       "      <td>Gerard</td>\n",
       "    </tr>\n",
       "  </tbody>\n",
       "</table>\n",
       "</div>"
      ],
      "text/plain": [
       "    lastName firstName\n",
       "0     Murphy     Diane\n",
       "1  Patterson      Mary\n",
       "2   Firrelli      Jeff\n",
       "3  Patterson   William\n",
       "4     Bondur    Gerard"
      ]
     },
     "execution_count": 4,
     "metadata": {},
     "output_type": "execute_result"
    }
   ],
   "source": [
    "pd.read_sql(\n",
    "\"\"\"\n",
    "SELECT lastName, firstName\n",
    "FROM employees;\n",
    "\"\"\", conn).head()"
   ]
  },
  {
   "cell_type": "markdown",
   "metadata": {},
   "source": [
    "We can also specify the columns in a different order than they appear in the database, in order to reorder the columns in the resulting dataframe:"
   ]
  },
  {
   "cell_type": "code",
   "execution_count": 5,
   "metadata": {},
   "outputs": [
    {
     "data": {
      "application/vnd.microsoft.datawrangler.viewer.v0+json": {
       "columns": [
        {
         "name": "index",
         "rawType": "int64",
         "type": "integer"
        },
        {
         "name": "firstName",
         "rawType": "object",
         "type": "string"
        },
        {
         "name": "lastName",
         "rawType": "object",
         "type": "string"
        }
       ],
       "conversionMethod": "pd.DataFrame",
       "ref": "6f0fe5d9-a7cd-4e10-9c90-4f71b42cd5d6",
       "rows": [
        [
         "0",
         "Diane",
         "Murphy"
        ],
        [
         "1",
         "Mary",
         "Patterson"
        ],
        [
         "2",
         "Jeff",
         "Firrelli"
        ],
        [
         "3",
         "William",
         "Patterson"
        ],
        [
         "4",
         "Gerard",
         "Bondur"
        ]
       ],
       "shape": {
        "columns": 2,
        "rows": 5
       }
      },
      "text/html": [
       "<div>\n",
       "<style scoped>\n",
       "    .dataframe tbody tr th:only-of-type {\n",
       "        vertical-align: middle;\n",
       "    }\n",
       "\n",
       "    .dataframe tbody tr th {\n",
       "        vertical-align: top;\n",
       "    }\n",
       "\n",
       "    .dataframe thead th {\n",
       "        text-align: right;\n",
       "    }\n",
       "</style>\n",
       "<table border=\"1\" class=\"dataframe\">\n",
       "  <thead>\n",
       "    <tr style=\"text-align: right;\">\n",
       "      <th></th>\n",
       "      <th>firstName</th>\n",
       "      <th>lastName</th>\n",
       "    </tr>\n",
       "  </thead>\n",
       "  <tbody>\n",
       "    <tr>\n",
       "      <th>0</th>\n",
       "      <td>Diane</td>\n",
       "      <td>Murphy</td>\n",
       "    </tr>\n",
       "    <tr>\n",
       "      <th>1</th>\n",
       "      <td>Mary</td>\n",
       "      <td>Patterson</td>\n",
       "    </tr>\n",
       "    <tr>\n",
       "      <th>2</th>\n",
       "      <td>Jeff</td>\n",
       "      <td>Firrelli</td>\n",
       "    </tr>\n",
       "    <tr>\n",
       "      <th>3</th>\n",
       "      <td>William</td>\n",
       "      <td>Patterson</td>\n",
       "    </tr>\n",
       "    <tr>\n",
       "      <th>4</th>\n",
       "      <td>Gerard</td>\n",
       "      <td>Bondur</td>\n",
       "    </tr>\n",
       "  </tbody>\n",
       "</table>\n",
       "</div>"
      ],
      "text/plain": [
       "  firstName   lastName\n",
       "0     Diane     Murphy\n",
       "1      Mary  Patterson\n",
       "2      Jeff   Firrelli\n",
       "3   William  Patterson\n",
       "4    Gerard     Bondur"
      ]
     },
     "execution_count": 5,
     "metadata": {},
     "output_type": "execute_result"
    }
   ],
   "source": [
    "# Used lowercase for the SQL commands\n",
    "pd.read_sql(\n",
    "\"\"\"\n",
    "select firstName, lastName\n",
    "from employees;\n",
    "\"\"\", conn).head()"
   ]
  },
  {
   "cell_type": "markdown",
   "metadata": {},
   "source": [
    "Additionally, we can use **aliases** (`AS` keyword) to change the column names in our query result:"
   ]
  },
  {
   "cell_type": "code",
   "execution_count": 6,
   "metadata": {},
   "outputs": [
    {
     "data": {
      "application/vnd.microsoft.datawrangler.viewer.v0+json": {
       "columns": [
        {
         "name": "index",
         "rawType": "int64",
         "type": "integer"
        },
        {
         "name": "name",
         "rawType": "object",
         "type": "string"
        }
       ],
       "conversionMethod": "pd.DataFrame",
       "ref": "f9215aec-f72e-4a03-ac53-0034537f6247",
       "rows": [
        [
         "0",
         "Diane"
        ],
        [
         "1",
         "Mary"
        ],
        [
         "2",
         "Jeff"
        ],
        [
         "3",
         "William"
        ],
        [
         "4",
         "Gerard"
        ]
       ],
       "shape": {
        "columns": 1,
        "rows": 5
       }
      },
      "text/html": [
       "<div>\n",
       "<style scoped>\n",
       "    .dataframe tbody tr th:only-of-type {\n",
       "        vertical-align: middle;\n",
       "    }\n",
       "\n",
       "    .dataframe tbody tr th {\n",
       "        vertical-align: top;\n",
       "    }\n",
       "\n",
       "    .dataframe thead th {\n",
       "        text-align: right;\n",
       "    }\n",
       "</style>\n",
       "<table border=\"1\" class=\"dataframe\">\n",
       "  <thead>\n",
       "    <tr style=\"text-align: right;\">\n",
       "      <th></th>\n",
       "      <th>name</th>\n",
       "    </tr>\n",
       "  </thead>\n",
       "  <tbody>\n",
       "    <tr>\n",
       "      <th>0</th>\n",
       "      <td>Diane</td>\n",
       "    </tr>\n",
       "    <tr>\n",
       "      <th>1</th>\n",
       "      <td>Mary</td>\n",
       "    </tr>\n",
       "    <tr>\n",
       "      <th>2</th>\n",
       "      <td>Jeff</td>\n",
       "    </tr>\n",
       "    <tr>\n",
       "      <th>3</th>\n",
       "      <td>William</td>\n",
       "    </tr>\n",
       "    <tr>\n",
       "      <th>4</th>\n",
       "      <td>Gerard</td>\n",
       "    </tr>\n",
       "  </tbody>\n",
       "</table>\n",
       "</div>"
      ],
      "text/plain": [
       "      name\n",
       "0    Diane\n",
       "1     Mary\n",
       "2     Jeff\n",
       "3  William\n",
       "4   Gerard"
      ]
     },
     "execution_count": 6,
     "metadata": {},
     "output_type": "execute_result"
    }
   ],
   "source": [
    "pd.read_sql(\n",
    "\"\"\"\n",
    "SELECT firstName AS name\n",
    "FROM employees;\n",
    "\"\"\", conn).head()"
   ]
  },
  {
   "cell_type": "markdown",
   "metadata": {},
   "source": [
    "Note: the `AS` keyword is technically optional when assigning an alias in SQL, so you may see examples that don't include it. In other words, you could just say `SELECT firstName name` and it would work the same as `SELECT firstName AS name`. However we recommend being more explicit and including the `AS`, so that it's clearer what your code is doing."
   ]
  },
  {
   "cell_type": "markdown",
   "metadata": {},
   "source": [
    "## Using SQL `CASE` Statements\n",
    "\n",
    "`CASE` statements appear very frequently in SQL technical interview questions. They are a type of conditional statement, similar to `if` statements in Python. Whereas Python uses the keywords `if`, `elif`, and `else`, SQL uses `CASE`, `WHEN`, `THEN`, `ELSE`, and `END`.\n",
    "\n",
    "`CASE` indicates that a conditional statement has begun, and `END` indicates that it has ended.\n",
    "\n",
    "`WHEN` is similar to `if`, and then instead of a colon and an indented block, `THEN` indicates what should happen if the condition is true. After the first `THEN` has executed, it skips to the end, so each subsequent `WHEN` is more like `elif` in Python.\n",
    "\n",
    "`ELSE` is essentially the same as `else` in Python.\n",
    "\n",
    "### `CASE` to Bin Column Values\n",
    "\n",
    "One of the most common use cases for `CASE` statements is to bin the column values. This is true for both numeric and categorical columns.\n",
    "\n",
    "In the example below, we use the `jobTitle` field to bin all employees into `role` categories based on whether or not their job title is \"Sales Rep\":"
   ]
  },
  {
   "cell_type": "code",
   "execution_count": 7,
   "metadata": {},
   "outputs": [
    {
     "data": {
      "application/vnd.microsoft.datawrangler.viewer.v0+json": {
       "columns": [
        {
         "name": "index",
         "rawType": "int64",
         "type": "integer"
        },
        {
         "name": "firstName",
         "rawType": "object",
         "type": "string"
        },
        {
         "name": "lastName",
         "rawType": "object",
         "type": "string"
        },
        {
         "name": "jobTitle",
         "rawType": "object",
         "type": "string"
        },
        {
         "name": "role",
         "rawType": "object",
         "type": "string"
        }
       ],
       "conversionMethod": "pd.DataFrame",
       "ref": "1a39b8f0-2aea-49a6-aa0b-613d7891517c",
       "rows": [
        [
         "0",
         "Diane",
         "Murphy",
         "President",
         "Not Sales Rep"
        ],
        [
         "1",
         "Mary",
         "Patterson",
         "VP Sales",
         "Not Sales Rep"
        ],
        [
         "2",
         "Jeff",
         "Firrelli",
         "VP Marketing",
         "Not Sales Rep"
        ],
        [
         "3",
         "William",
         "Patterson",
         "Sales Manager (APAC)",
         "Not Sales Rep"
        ],
        [
         "4",
         "Gerard",
         "Bondur",
         "Sale Manager (EMEA)",
         "Not Sales Rep"
        ],
        [
         "5",
         "Anthony",
         "Bow",
         "Sales Manager (NA)",
         "Not Sales Rep"
        ],
        [
         "6",
         "Leslie",
         "Jennings",
         "Sales Rep",
         "Sales Rep"
        ],
        [
         "7",
         "Leslie",
         "Thompson",
         "Sales Rep",
         "Sales Rep"
        ],
        [
         "8",
         "Julie",
         "Firrelli",
         "Sales Rep",
         "Sales Rep"
        ],
        [
         "9",
         "Steve",
         "Patterson",
         "Sales Rep",
         "Sales Rep"
        ]
       ],
       "shape": {
        "columns": 4,
        "rows": 10
       }
      },
      "text/html": [
       "<div>\n",
       "<style scoped>\n",
       "    .dataframe tbody tr th:only-of-type {\n",
       "        vertical-align: middle;\n",
       "    }\n",
       "\n",
       "    .dataframe tbody tr th {\n",
       "        vertical-align: top;\n",
       "    }\n",
       "\n",
       "    .dataframe thead th {\n",
       "        text-align: right;\n",
       "    }\n",
       "</style>\n",
       "<table border=\"1\" class=\"dataframe\">\n",
       "  <thead>\n",
       "    <tr style=\"text-align: right;\">\n",
       "      <th></th>\n",
       "      <th>firstName</th>\n",
       "      <th>lastName</th>\n",
       "      <th>jobTitle</th>\n",
       "      <th>role</th>\n",
       "    </tr>\n",
       "  </thead>\n",
       "  <tbody>\n",
       "    <tr>\n",
       "      <th>0</th>\n",
       "      <td>Diane</td>\n",
       "      <td>Murphy</td>\n",
       "      <td>President</td>\n",
       "      <td>Not Sales Rep</td>\n",
       "    </tr>\n",
       "    <tr>\n",
       "      <th>1</th>\n",
       "      <td>Mary</td>\n",
       "      <td>Patterson</td>\n",
       "      <td>VP Sales</td>\n",
       "      <td>Not Sales Rep</td>\n",
       "    </tr>\n",
       "    <tr>\n",
       "      <th>2</th>\n",
       "      <td>Jeff</td>\n",
       "      <td>Firrelli</td>\n",
       "      <td>VP Marketing</td>\n",
       "      <td>Not Sales Rep</td>\n",
       "    </tr>\n",
       "    <tr>\n",
       "      <th>3</th>\n",
       "      <td>William</td>\n",
       "      <td>Patterson</td>\n",
       "      <td>Sales Manager (APAC)</td>\n",
       "      <td>Not Sales Rep</td>\n",
       "    </tr>\n",
       "    <tr>\n",
       "      <th>4</th>\n",
       "      <td>Gerard</td>\n",
       "      <td>Bondur</td>\n",
       "      <td>Sale Manager (EMEA)</td>\n",
       "      <td>Not Sales Rep</td>\n",
       "    </tr>\n",
       "    <tr>\n",
       "      <th>5</th>\n",
       "      <td>Anthony</td>\n",
       "      <td>Bow</td>\n",
       "      <td>Sales Manager (NA)</td>\n",
       "      <td>Not Sales Rep</td>\n",
       "    </tr>\n",
       "    <tr>\n",
       "      <th>6</th>\n",
       "      <td>Leslie</td>\n",
       "      <td>Jennings</td>\n",
       "      <td>Sales Rep</td>\n",
       "      <td>Sales Rep</td>\n",
       "    </tr>\n",
       "    <tr>\n",
       "      <th>7</th>\n",
       "      <td>Leslie</td>\n",
       "      <td>Thompson</td>\n",
       "      <td>Sales Rep</td>\n",
       "      <td>Sales Rep</td>\n",
       "    </tr>\n",
       "    <tr>\n",
       "      <th>8</th>\n",
       "      <td>Julie</td>\n",
       "      <td>Firrelli</td>\n",
       "      <td>Sales Rep</td>\n",
       "      <td>Sales Rep</td>\n",
       "    </tr>\n",
       "    <tr>\n",
       "      <th>9</th>\n",
       "      <td>Steve</td>\n",
       "      <td>Patterson</td>\n",
       "      <td>Sales Rep</td>\n",
       "      <td>Sales Rep</td>\n",
       "    </tr>\n",
       "  </tbody>\n",
       "</table>\n",
       "</div>"
      ],
      "text/plain": [
       "  firstName   lastName              jobTitle           role\n",
       "0     Diane     Murphy             President  Not Sales Rep\n",
       "1      Mary  Patterson              VP Sales  Not Sales Rep\n",
       "2      Jeff   Firrelli          VP Marketing  Not Sales Rep\n",
       "3   William  Patterson  Sales Manager (APAC)  Not Sales Rep\n",
       "4    Gerard     Bondur   Sale Manager (EMEA)  Not Sales Rep\n",
       "5   Anthony        Bow    Sales Manager (NA)  Not Sales Rep\n",
       "6    Leslie   Jennings             Sales Rep      Sales Rep\n",
       "7    Leslie   Thompson             Sales Rep      Sales Rep\n",
       "8     Julie   Firrelli             Sales Rep      Sales Rep\n",
       "9     Steve  Patterson             Sales Rep      Sales Rep"
      ]
     },
     "execution_count": 7,
     "metadata": {},
     "output_type": "execute_result"
    }
   ],
   "source": [
    "pd.read_sql(\"\"\"\n",
    "SELECT firstName, lastName, jobTitle,\n",
    "       CASE\n",
    "       WHEN jobTitle = \"Sales Rep\" THEN \"Sales Rep\"\n",
    "       ELSE \"Not Sales Rep\"\n",
    "       END AS role\n",
    "FROM employees;\n",
    "\"\"\", conn).head(10)"
   ]
  },
  {
   "cell_type": "markdown",
   "metadata": {},
   "source": [
    "### `CASE`  to Make Values Human-Readable\n",
    "\n",
    "Another typical way to use `CASE` is to translate the column values into something that your eventual audience will understand. This is especially true of data that is entered into the database as a \"code\" or \"ID\" rather than a human-readable name.\n",
    "\n",
    "In the example below, we use a `CASE` statement with multiple `WHEN`s in order to transform the `officeCode` column into an `office` column that uses a more meaningful name for the office:"
   ]
  },
  {
   "cell_type": "code",
   "execution_count": 11,
   "metadata": {},
   "outputs": [
    {
     "data": {
      "application/vnd.microsoft.datawrangler.viewer.v0+json": {
       "columns": [
        {
         "name": "index",
         "rawType": "int64",
         "type": "integer"
        },
        {
         "name": "firstName",
         "rawType": "object",
         "type": "string"
        },
        {
         "name": "lastName",
         "rawType": "object",
         "type": "string"
        },
        {
         "name": "officeCode",
         "rawType": "object",
         "type": "string"
        },
        {
         "name": "office",
         "rawType": "object",
         "type": "string"
        }
       ],
       "conversionMethod": "pd.DataFrame",
       "ref": "cc979f80-49ce-4b5a-8308-1c8dfeb06d1d",
       "rows": [
        [
         "0",
         "Diane",
         "Murphy",
         "1",
         "San Francisco, CA"
        ],
        [
         "1",
         "Mary",
         "Patterson",
         "1",
         "San Francisco, CA"
        ],
        [
         "2",
         "Jeff",
         "Firrelli",
         "1",
         "San Francisco, CA"
        ],
        [
         "3",
         "William",
         "Patterson",
         "6",
         null
        ],
        [
         "4",
         "Gerard",
         "Bondur",
         "4",
         "Paris, France"
        ],
        [
         "5",
         "Anthony",
         "Bow",
         "1",
         "San Francisco, CA"
        ],
        [
         "6",
         "Leslie",
         "Jennings",
         "1",
         "San Francisco, CA"
        ],
        [
         "7",
         "Leslie",
         "Thompson",
         "1",
         "San Francisco, CA"
        ],
        [
         "8",
         "Julie",
         "Firrelli",
         "2",
         "Boston, MA"
        ],
        [
         "9",
         "Steve",
         "Patterson",
         "2",
         "Boston, MA"
        ]
       ],
       "shape": {
        "columns": 4,
        "rows": 10
       }
      },
      "text/html": [
       "<div>\n",
       "<style scoped>\n",
       "    .dataframe tbody tr th:only-of-type {\n",
       "        vertical-align: middle;\n",
       "    }\n",
       "\n",
       "    .dataframe tbody tr th {\n",
       "        vertical-align: top;\n",
       "    }\n",
       "\n",
       "    .dataframe thead th {\n",
       "        text-align: right;\n",
       "    }\n",
       "</style>\n",
       "<table border=\"1\" class=\"dataframe\">\n",
       "  <thead>\n",
       "    <tr style=\"text-align: right;\">\n",
       "      <th></th>\n",
       "      <th>firstName</th>\n",
       "      <th>lastName</th>\n",
       "      <th>officeCode</th>\n",
       "      <th>office</th>\n",
       "    </tr>\n",
       "  </thead>\n",
       "  <tbody>\n",
       "    <tr>\n",
       "      <th>0</th>\n",
       "      <td>Diane</td>\n",
       "      <td>Murphy</td>\n",
       "      <td>1</td>\n",
       "      <td>San Francisco, CA</td>\n",
       "    </tr>\n",
       "    <tr>\n",
       "      <th>1</th>\n",
       "      <td>Mary</td>\n",
       "      <td>Patterson</td>\n",
       "      <td>1</td>\n",
       "      <td>San Francisco, CA</td>\n",
       "    </tr>\n",
       "    <tr>\n",
       "      <th>2</th>\n",
       "      <td>Jeff</td>\n",
       "      <td>Firrelli</td>\n",
       "      <td>1</td>\n",
       "      <td>San Francisco, CA</td>\n",
       "    </tr>\n",
       "    <tr>\n",
       "      <th>3</th>\n",
       "      <td>William</td>\n",
       "      <td>Patterson</td>\n",
       "      <td>6</td>\n",
       "      <td>None</td>\n",
       "    </tr>\n",
       "    <tr>\n",
       "      <th>4</th>\n",
       "      <td>Gerard</td>\n",
       "      <td>Bondur</td>\n",
       "      <td>4</td>\n",
       "      <td>Paris, France</td>\n",
       "    </tr>\n",
       "    <tr>\n",
       "      <th>5</th>\n",
       "      <td>Anthony</td>\n",
       "      <td>Bow</td>\n",
       "      <td>1</td>\n",
       "      <td>San Francisco, CA</td>\n",
       "    </tr>\n",
       "    <tr>\n",
       "      <th>6</th>\n",
       "      <td>Leslie</td>\n",
       "      <td>Jennings</td>\n",
       "      <td>1</td>\n",
       "      <td>San Francisco, CA</td>\n",
       "    </tr>\n",
       "    <tr>\n",
       "      <th>7</th>\n",
       "      <td>Leslie</td>\n",
       "      <td>Thompson</td>\n",
       "      <td>1</td>\n",
       "      <td>San Francisco, CA</td>\n",
       "    </tr>\n",
       "    <tr>\n",
       "      <th>8</th>\n",
       "      <td>Julie</td>\n",
       "      <td>Firrelli</td>\n",
       "      <td>2</td>\n",
       "      <td>Boston, MA</td>\n",
       "    </tr>\n",
       "    <tr>\n",
       "      <th>9</th>\n",
       "      <td>Steve</td>\n",
       "      <td>Patterson</td>\n",
       "      <td>2</td>\n",
       "      <td>Boston, MA</td>\n",
       "    </tr>\n",
       "  </tbody>\n",
       "</table>\n",
       "</div>"
      ],
      "text/plain": [
       "  firstName   lastName officeCode             office\n",
       "0     Diane     Murphy          1  San Francisco, CA\n",
       "1      Mary  Patterson          1  San Francisco, CA\n",
       "2      Jeff   Firrelli          1  San Francisco, CA\n",
       "3   William  Patterson          6               None\n",
       "4    Gerard     Bondur          4      Paris, France\n",
       "5   Anthony        Bow          1  San Francisco, CA\n",
       "6    Leslie   Jennings          1  San Francisco, CA\n",
       "7    Leslie   Thompson          1  San Francisco, CA\n",
       "8     Julie   Firrelli          2         Boston, MA\n",
       "9     Steve  Patterson          2         Boston, MA"
      ]
     },
     "execution_count": 11,
     "metadata": {},
     "output_type": "execute_result"
    }
   ],
   "source": [
    "pd.read_sql(\"\"\"\n",
    "SELECT firstName, lastName, officeCode,\n",
    "       CASE\n",
    "       WHEN officeCode = \"1\" THEN \"San Francisco, CA\"\n",
    "       WHEN officeCode = \"2\" THEN \"Boston, MA\"\n",
    "       WHEN officeCode = \"3\" THEN \"New York, NY\"\n",
    "       WHEN officeCode = \"4\" THEN \"Paris, France\"\n",
    "       WHEN officeCode = \"5\" THEN \"Tokyo, Japan\"\n",
    "      --  WHEN officeCode = \"6\" THEN \"London, UK\"\n",
    "       END AS office\n",
    "FROM employees;\n",
    "\"\"\", conn).head(10)"
   ]
  },
  {
   "cell_type": "markdown",
   "metadata": {},
   "source": [
    "Note that because **we did not specify a name for `officeCode` \"6\"**, and did not include an `ELSE`, the associated office value for William Patterson is `NULL` (represented as `None` in Python)."
   ]
  },
  {
   "cell_type": "markdown",
   "metadata": {},
   "source": [
    "There is also a shorter syntax possible if all of the `WHEN`s are just checking if a value is equal to another value (e.g. in this case where we are repeating `officeCode =` over and over). Instead we can specify `officeCode` right after `CASE`, then only specify the potential matching values:"
   ]
  },
  {
   "cell_type": "code",
   "execution_count": 13,
   "metadata": {},
   "outputs": [
    {
     "data": {
      "application/vnd.microsoft.datawrangler.viewer.v0+json": {
       "columns": [
        {
         "name": "index",
         "rawType": "int64",
         "type": "integer"
        },
        {
         "name": "firstName",
         "rawType": "object",
         "type": "string"
        },
        {
         "name": "lastName",
         "rawType": "object",
         "type": "string"
        },
        {
         "name": "officeCode",
         "rawType": "object",
         "type": "string"
        },
        {
         "name": "office",
         "rawType": "object",
         "type": "string"
        }
       ],
       "conversionMethod": "pd.DataFrame",
       "ref": "d386a2d4-b8b8-4a30-bb12-dd576b944d09",
       "rows": [
        [
         "0",
         "Diane",
         "Murphy",
         "1",
         "San Francisco, CA"
        ],
        [
         "1",
         "Mary",
         "Patterson",
         "1",
         "San Francisco, CA"
        ],
        [
         "2",
         "Jeff",
         "Firrelli",
         "1",
         "San Francisco, CA"
        ],
        [
         "3",
         "William",
         "Patterson",
         "6",
         null
        ],
        [
         "4",
         "Gerard",
         "Bondur",
         "4",
         "Paris, France"
        ],
        [
         "5",
         "Anthony",
         "Bow",
         "1",
         "San Francisco, CA"
        ],
        [
         "6",
         "Leslie",
         "Jennings",
         "1",
         "San Francisco, CA"
        ],
        [
         "7",
         "Leslie",
         "Thompson",
         "1",
         "San Francisco, CA"
        ],
        [
         "8",
         "Julie",
         "Firrelli",
         "2",
         "Boston, MA"
        ],
        [
         "9",
         "Steve",
         "Patterson",
         "2",
         "Boston, MA"
        ]
       ],
       "shape": {
        "columns": 4,
        "rows": 10
       }
      },
      "text/html": [
       "<div>\n",
       "<style scoped>\n",
       "    .dataframe tbody tr th:only-of-type {\n",
       "        vertical-align: middle;\n",
       "    }\n",
       "\n",
       "    .dataframe tbody tr th {\n",
       "        vertical-align: top;\n",
       "    }\n",
       "\n",
       "    .dataframe thead th {\n",
       "        text-align: right;\n",
       "    }\n",
       "</style>\n",
       "<table border=\"1\" class=\"dataframe\">\n",
       "  <thead>\n",
       "    <tr style=\"text-align: right;\">\n",
       "      <th></th>\n",
       "      <th>firstName</th>\n",
       "      <th>lastName</th>\n",
       "      <th>officeCode</th>\n",
       "      <th>office</th>\n",
       "    </tr>\n",
       "  </thead>\n",
       "  <tbody>\n",
       "    <tr>\n",
       "      <th>0</th>\n",
       "      <td>Diane</td>\n",
       "      <td>Murphy</td>\n",
       "      <td>1</td>\n",
       "      <td>San Francisco, CA</td>\n",
       "    </tr>\n",
       "    <tr>\n",
       "      <th>1</th>\n",
       "      <td>Mary</td>\n",
       "      <td>Patterson</td>\n",
       "      <td>1</td>\n",
       "      <td>San Francisco, CA</td>\n",
       "    </tr>\n",
       "    <tr>\n",
       "      <th>2</th>\n",
       "      <td>Jeff</td>\n",
       "      <td>Firrelli</td>\n",
       "      <td>1</td>\n",
       "      <td>San Francisco, CA</td>\n",
       "    </tr>\n",
       "    <tr>\n",
       "      <th>3</th>\n",
       "      <td>William</td>\n",
       "      <td>Patterson</td>\n",
       "      <td>6</td>\n",
       "      <td>None</td>\n",
       "    </tr>\n",
       "    <tr>\n",
       "      <th>4</th>\n",
       "      <td>Gerard</td>\n",
       "      <td>Bondur</td>\n",
       "      <td>4</td>\n",
       "      <td>Paris, France</td>\n",
       "    </tr>\n",
       "    <tr>\n",
       "      <th>5</th>\n",
       "      <td>Anthony</td>\n",
       "      <td>Bow</td>\n",
       "      <td>1</td>\n",
       "      <td>San Francisco, CA</td>\n",
       "    </tr>\n",
       "    <tr>\n",
       "      <th>6</th>\n",
       "      <td>Leslie</td>\n",
       "      <td>Jennings</td>\n",
       "      <td>1</td>\n",
       "      <td>San Francisco, CA</td>\n",
       "    </tr>\n",
       "    <tr>\n",
       "      <th>7</th>\n",
       "      <td>Leslie</td>\n",
       "      <td>Thompson</td>\n",
       "      <td>1</td>\n",
       "      <td>San Francisco, CA</td>\n",
       "    </tr>\n",
       "    <tr>\n",
       "      <th>8</th>\n",
       "      <td>Julie</td>\n",
       "      <td>Firrelli</td>\n",
       "      <td>2</td>\n",
       "      <td>Boston, MA</td>\n",
       "    </tr>\n",
       "    <tr>\n",
       "      <th>9</th>\n",
       "      <td>Steve</td>\n",
       "      <td>Patterson</td>\n",
       "      <td>2</td>\n",
       "      <td>Boston, MA</td>\n",
       "    </tr>\n",
       "  </tbody>\n",
       "</table>\n",
       "</div>"
      ],
      "text/plain": [
       "  firstName   lastName officeCode             office\n",
       "0     Diane     Murphy          1  San Francisco, CA\n",
       "1      Mary  Patterson          1  San Francisco, CA\n",
       "2      Jeff   Firrelli          1  San Francisco, CA\n",
       "3   William  Patterson          6               None\n",
       "4    Gerard     Bondur          4      Paris, France\n",
       "5   Anthony        Bow          1  San Francisco, CA\n",
       "6    Leslie   Jennings          1  San Francisco, CA\n",
       "7    Leslie   Thompson          1  San Francisco, CA\n",
       "8     Julie   Firrelli          2         Boston, MA\n",
       "9     Steve  Patterson          2         Boston, MA"
      ]
     },
     "execution_count": 13,
     "metadata": {},
     "output_type": "execute_result"
    }
   ],
   "source": [
    "pd.read_sql(\"\"\"\n",
    "SELECT firstName, lastName, officeCode,\n",
    "       CASE officeCode\n",
    "       WHEN \"1\" THEN \"San Francisco, CA\"\n",
    "       WHEN \"2\" THEN \"Boston, MA\"\n",
    "       WHEN \"3\" THEN \"New York, NY\"\n",
    "       WHEN \"4\" THEN \"Paris, France\"\n",
    "       WHEN \"5\" THEN \"Tokyo, Japan\"\n",
    "       -- WHEN \"6\" THEN \"London, UK\" \n",
    "       END AS office\n",
    "  FROM employees;\n",
    "\"\"\", conn).head(10)"
   ]
  },
  {
   "cell_type": "markdown",
   "metadata": {},
   "source": [
    "## Using Built-in SQL Functions\n",
    "\n",
    "Similar to the [Python built-in functions](https://docs.python.org/3/library/functions.html), SQL also has built-in functions. The available functions will differ somewhat by the type of SQL you are using, but in general you should be able to find functions for:\n",
    "\n",
    "* String manipulation\n",
    "* Math operations\n",
    "* Date and time operations\n",
    "\n",
    "For SQLite in particular, if you are looking for a built-in function, start by checking the [core functions](https://www.sqlite.org/lang_corefunc.html) page, [mathematical functions](https://www.sqlite.org/lang_mathfunc.html) page, and/or [date and time functions](https://www.sqlite.org/lang_datefunc.html) page."
   ]
  },
  {
   "cell_type": "markdown",
   "metadata": {},
   "source": [
    "### Built-in SQL Functions for String Manipulation\n",
    "\n",
    "#### `length`\n",
    "\n",
    "Let's start with an example of a SQL built-in function that is very similar to one we have in Python: `length` ([documentation here](https://www.sqlite.org/lang_corefunc.html#length)). This works very similarly to the `len` built-in function in Python. For a string, it returns the number of characters.\n",
    "\n",
    "If we wanted to find the length of the first names of all employees, that would look like this:"
   ]
  },
  {
   "cell_type": "code",
   "execution_count": 14,
   "metadata": {},
   "outputs": [
    {
     "data": {
      "application/vnd.microsoft.datawrangler.viewer.v0+json": {
       "columns": [
        {
         "name": "index",
         "rawType": "int64",
         "type": "integer"
        },
        {
         "name": "name_length",
         "rawType": "int64",
         "type": "integer"
        }
       ],
       "conversionMethod": "pd.DataFrame",
       "ref": "c8fd220a-a6b6-4784-81a4-a3da0eb43e8c",
       "rows": [
        [
         "0",
         "5"
        ],
        [
         "1",
         "4"
        ],
        [
         "2",
         "4"
        ],
        [
         "3",
         "7"
        ],
        [
         "4",
         "6"
        ],
        [
         "5",
         "7"
        ],
        [
         "6",
         "6"
        ],
        [
         "7",
         "6"
        ],
        [
         "8",
         "5"
        ],
        [
         "9",
         "5"
        ]
       ],
       "shape": {
        "columns": 1,
        "rows": 10
       }
      },
      "text/html": [
       "<div>\n",
       "<style scoped>\n",
       "    .dataframe tbody tr th:only-of-type {\n",
       "        vertical-align: middle;\n",
       "    }\n",
       "\n",
       "    .dataframe tbody tr th {\n",
       "        vertical-align: top;\n",
       "    }\n",
       "\n",
       "    .dataframe thead th {\n",
       "        text-align: right;\n",
       "    }\n",
       "</style>\n",
       "<table border=\"1\" class=\"dataframe\">\n",
       "  <thead>\n",
       "    <tr style=\"text-align: right;\">\n",
       "      <th></th>\n",
       "      <th>name_length</th>\n",
       "    </tr>\n",
       "  </thead>\n",
       "  <tbody>\n",
       "    <tr>\n",
       "      <th>0</th>\n",
       "      <td>5</td>\n",
       "    </tr>\n",
       "    <tr>\n",
       "      <th>1</th>\n",
       "      <td>4</td>\n",
       "    </tr>\n",
       "    <tr>\n",
       "      <th>2</th>\n",
       "      <td>4</td>\n",
       "    </tr>\n",
       "    <tr>\n",
       "      <th>3</th>\n",
       "      <td>7</td>\n",
       "    </tr>\n",
       "    <tr>\n",
       "      <th>4</th>\n",
       "      <td>6</td>\n",
       "    </tr>\n",
       "    <tr>\n",
       "      <th>5</th>\n",
       "      <td>7</td>\n",
       "    </tr>\n",
       "    <tr>\n",
       "      <th>6</th>\n",
       "      <td>6</td>\n",
       "    </tr>\n",
       "    <tr>\n",
       "      <th>7</th>\n",
       "      <td>6</td>\n",
       "    </tr>\n",
       "    <tr>\n",
       "      <th>8</th>\n",
       "      <td>5</td>\n",
       "    </tr>\n",
       "    <tr>\n",
       "      <th>9</th>\n",
       "      <td>5</td>\n",
       "    </tr>\n",
       "  </tbody>\n",
       "</table>\n",
       "</div>"
      ],
      "text/plain": [
       "   name_length\n",
       "0            5\n",
       "1            4\n",
       "2            4\n",
       "3            7\n",
       "4            6\n",
       "5            7\n",
       "6            6\n",
       "7            6\n",
       "8            5\n",
       "9            5"
      ]
     },
     "execution_count": 14,
     "metadata": {},
     "output_type": "execute_result"
    }
   ],
   "source": [
    "pd.read_sql(\"\"\"\n",
    "SELECT length(firstName) AS name_length\n",
    "FROM employees;\n",
    "\"\"\", conn).head(10)"
   ]
  },
  {
   "cell_type": "markdown",
   "metadata": {},
   "source": [
    "#### `upper`\n",
    "\n",
    "Now let's say we wanted to return all of the employee names in all caps. Similar to the Python string method, this SQL function is called `upper` ([documentation here](https://www.sqlite.org/lang_corefunc.html#upper)). However, since it's a built-in function and not a method, the syntax looks like:\n",
    "\n",
    "```sql\n",
    "upper(column_name)\n",
    "```\n",
    "\n",
    "and not `column_name.upper()`.\n",
    "\n",
    "As you get more comfortable with Python and SQL, distinctions like this will get more intuitive, but for now don't worry if you have to look it up every time!\n",
    "\n",
    "Here is an example using `upper`:"
   ]
  },
  {
   "cell_type": "code",
   "execution_count": 15,
   "metadata": {},
   "outputs": [
    {
     "data": {
      "application/vnd.microsoft.datawrangler.viewer.v0+json": {
       "columns": [
        {
         "name": "index",
         "rawType": "int64",
         "type": "integer"
        },
        {
         "name": "name_in_all_caps",
         "rawType": "object",
         "type": "string"
        }
       ],
       "conversionMethod": "pd.DataFrame",
       "ref": "14daa867-f9fd-44ff-904e-f4e8d603d259",
       "rows": [
        [
         "0",
         "DIANE"
        ],
        [
         "1",
         "MARY"
        ],
        [
         "2",
         "JEFF"
        ],
        [
         "3",
         "WILLIAM"
        ],
        [
         "4",
         "GERARD"
        ],
        [
         "5",
         "ANTHONY"
        ],
        [
         "6",
         "LESLIE"
        ],
        [
         "7",
         "LESLIE"
        ],
        [
         "8",
         "JULIE"
        ],
        [
         "9",
         "STEVE"
        ]
       ],
       "shape": {
        "columns": 1,
        "rows": 10
       }
      },
      "text/html": [
       "<div>\n",
       "<style scoped>\n",
       "    .dataframe tbody tr th:only-of-type {\n",
       "        vertical-align: middle;\n",
       "    }\n",
       "\n",
       "    .dataframe tbody tr th {\n",
       "        vertical-align: top;\n",
       "    }\n",
       "\n",
       "    .dataframe thead th {\n",
       "        text-align: right;\n",
       "    }\n",
       "</style>\n",
       "<table border=\"1\" class=\"dataframe\">\n",
       "  <thead>\n",
       "    <tr style=\"text-align: right;\">\n",
       "      <th></th>\n",
       "      <th>name_in_all_caps</th>\n",
       "    </tr>\n",
       "  </thead>\n",
       "  <tbody>\n",
       "    <tr>\n",
       "      <th>0</th>\n",
       "      <td>DIANE</td>\n",
       "    </tr>\n",
       "    <tr>\n",
       "      <th>1</th>\n",
       "      <td>MARY</td>\n",
       "    </tr>\n",
       "    <tr>\n",
       "      <th>2</th>\n",
       "      <td>JEFF</td>\n",
       "    </tr>\n",
       "    <tr>\n",
       "      <th>3</th>\n",
       "      <td>WILLIAM</td>\n",
       "    </tr>\n",
       "    <tr>\n",
       "      <th>4</th>\n",
       "      <td>GERARD</td>\n",
       "    </tr>\n",
       "    <tr>\n",
       "      <th>5</th>\n",
       "      <td>ANTHONY</td>\n",
       "    </tr>\n",
       "    <tr>\n",
       "      <th>6</th>\n",
       "      <td>LESLIE</td>\n",
       "    </tr>\n",
       "    <tr>\n",
       "      <th>7</th>\n",
       "      <td>LESLIE</td>\n",
       "    </tr>\n",
       "    <tr>\n",
       "      <th>8</th>\n",
       "      <td>JULIE</td>\n",
       "    </tr>\n",
       "    <tr>\n",
       "      <th>9</th>\n",
       "      <td>STEVE</td>\n",
       "    </tr>\n",
       "  </tbody>\n",
       "</table>\n",
       "</div>"
      ],
      "text/plain": [
       "  name_in_all_caps\n",
       "0            DIANE\n",
       "1             MARY\n",
       "2             JEFF\n",
       "3          WILLIAM\n",
       "4           GERARD\n",
       "5          ANTHONY\n",
       "6           LESLIE\n",
       "7           LESLIE\n",
       "8            JULIE\n",
       "9            STEVE"
      ]
     },
     "execution_count": 15,
     "metadata": {},
     "output_type": "execute_result"
    }
   ],
   "source": [
    "pd.read_sql(\"\"\"\n",
    "SELECT upper(firstName) AS name_in_all_caps\n",
    "FROM employees;\n",
    "\"\"\", conn).head(10)"
   ]
  },
  {
   "cell_type": "markdown",
   "metadata": {},
   "source": [
    "#### `substr`\n",
    "\n",
    "Another form of string manipulation you might need is finding a substring (subset of a string). In Python, we do this with string slicing. In SQL, there is a built-in function that does this instead. For SQLite specifically, this is called `substr` ([documentation here](https://www.sqlite.org/lang_corefunc.html#substr)).\n",
    "\n",
    "Let's say we wanted just the first initial (first letter of the first name) for each employee:"
   ]
  },
  {
   "cell_type": "code",
   "execution_count": 21,
   "metadata": {},
   "outputs": [
    {
     "data": {
      "application/vnd.microsoft.datawrangler.viewer.v0+json": {
       "columns": [
        {
         "name": "index",
         "rawType": "int64",
         "type": "integer"
        },
        {
         "name": "first_initial",
         "rawType": "object",
         "type": "string"
        }
       ],
       "conversionMethod": "pd.DataFrame",
       "ref": "555bb105-77ca-45d2-90fb-d353ad72a4a7",
       "rows": [
        [
         "0",
         "D"
        ],
        [
         "1",
         "M"
        ],
        [
         "2",
         "J"
        ],
        [
         "3",
         "W"
        ],
        [
         "4",
         "G"
        ],
        [
         "5",
         "A"
        ],
        [
         "6",
         "L"
        ],
        [
         "7",
         "L"
        ],
        [
         "8",
         "J"
        ],
        [
         "9",
         "S"
        ]
       ],
       "shape": {
        "columns": 1,
        "rows": 10
       }
      },
      "text/html": [
       "<div>\n",
       "<style scoped>\n",
       "    .dataframe tbody tr th:only-of-type {\n",
       "        vertical-align: middle;\n",
       "    }\n",
       "\n",
       "    .dataframe tbody tr th {\n",
       "        vertical-align: top;\n",
       "    }\n",
       "\n",
       "    .dataframe thead th {\n",
       "        text-align: right;\n",
       "    }\n",
       "</style>\n",
       "<table border=\"1\" class=\"dataframe\">\n",
       "  <thead>\n",
       "    <tr style=\"text-align: right;\">\n",
       "      <th></th>\n",
       "      <th>first_initial</th>\n",
       "    </tr>\n",
       "  </thead>\n",
       "  <tbody>\n",
       "    <tr>\n",
       "      <th>0</th>\n",
       "      <td>D</td>\n",
       "    </tr>\n",
       "    <tr>\n",
       "      <th>1</th>\n",
       "      <td>M</td>\n",
       "    </tr>\n",
       "    <tr>\n",
       "      <th>2</th>\n",
       "      <td>J</td>\n",
       "    </tr>\n",
       "    <tr>\n",
       "      <th>3</th>\n",
       "      <td>W</td>\n",
       "    </tr>\n",
       "    <tr>\n",
       "      <th>4</th>\n",
       "      <td>G</td>\n",
       "    </tr>\n",
       "    <tr>\n",
       "      <th>5</th>\n",
       "      <td>A</td>\n",
       "    </tr>\n",
       "    <tr>\n",
       "      <th>6</th>\n",
       "      <td>L</td>\n",
       "    </tr>\n",
       "    <tr>\n",
       "      <th>7</th>\n",
       "      <td>L</td>\n",
       "    </tr>\n",
       "    <tr>\n",
       "      <th>8</th>\n",
       "      <td>J</td>\n",
       "    </tr>\n",
       "    <tr>\n",
       "      <th>9</th>\n",
       "      <td>S</td>\n",
       "    </tr>\n",
       "  </tbody>\n",
       "</table>\n",
       "</div>"
      ],
      "text/plain": [
       "  first_initial\n",
       "0             D\n",
       "1             M\n",
       "2             J\n",
       "3             W\n",
       "4             G\n",
       "5             A\n",
       "6             L\n",
       "7             L\n",
       "8             J\n",
       "9             S"
      ]
     },
     "execution_count": 21,
     "metadata": {},
     "output_type": "execute_result"
    }
   ],
   "source": [
    "pd.read_sql(\"\"\"\n",
    "SELECT substr(firstName, 1, 1) AS first_initial\n",
    "  FROM employees;\n",
    "\"\"\", conn).head(10)"
   ]
  },
  {
   "cell_type": "markdown",
   "metadata": {},
   "source": [
    "If we wanted to add a `.` after each first initial, we could use the SQLite `||` (concatenate) operator. This works similarly to `+` with strings in Python:"
   ]
  },
  {
   "cell_type": "code",
   "execution_count": 22,
   "metadata": {},
   "outputs": [
    {
     "data": {
      "application/vnd.microsoft.datawrangler.viewer.v0+json": {
       "columns": [
        {
         "name": "index",
         "rawType": "int64",
         "type": "integer"
        },
        {
         "name": "first_initial",
         "rawType": "object",
         "type": "string"
        }
       ],
       "conversionMethod": "pd.DataFrame",
       "ref": "dc952a88-a236-403c-9c36-4764a9f1f435",
       "rows": [
        [
         "0",
         "D."
        ],
        [
         "1",
         "M."
        ],
        [
         "2",
         "J."
        ],
        [
         "3",
         "W."
        ],
        [
         "4",
         "G."
        ],
        [
         "5",
         "A."
        ],
        [
         "6",
         "L."
        ],
        [
         "7",
         "L."
        ],
        [
         "8",
         "J."
        ],
        [
         "9",
         "S."
        ]
       ],
       "shape": {
        "columns": 1,
        "rows": 10
       }
      },
      "text/html": [
       "<div>\n",
       "<style scoped>\n",
       "    .dataframe tbody tr th:only-of-type {\n",
       "        vertical-align: middle;\n",
       "    }\n",
       "\n",
       "    .dataframe tbody tr th {\n",
       "        vertical-align: top;\n",
       "    }\n",
       "\n",
       "    .dataframe thead th {\n",
       "        text-align: right;\n",
       "    }\n",
       "</style>\n",
       "<table border=\"1\" class=\"dataframe\">\n",
       "  <thead>\n",
       "    <tr style=\"text-align: right;\">\n",
       "      <th></th>\n",
       "      <th>first_initial</th>\n",
       "    </tr>\n",
       "  </thead>\n",
       "  <tbody>\n",
       "    <tr>\n",
       "      <th>0</th>\n",
       "      <td>D.</td>\n",
       "    </tr>\n",
       "    <tr>\n",
       "      <th>1</th>\n",
       "      <td>M.</td>\n",
       "    </tr>\n",
       "    <tr>\n",
       "      <th>2</th>\n",
       "      <td>J.</td>\n",
       "    </tr>\n",
       "    <tr>\n",
       "      <th>3</th>\n",
       "      <td>W.</td>\n",
       "    </tr>\n",
       "    <tr>\n",
       "      <th>4</th>\n",
       "      <td>G.</td>\n",
       "    </tr>\n",
       "    <tr>\n",
       "      <th>5</th>\n",
       "      <td>A.</td>\n",
       "    </tr>\n",
       "    <tr>\n",
       "      <th>6</th>\n",
       "      <td>L.</td>\n",
       "    </tr>\n",
       "    <tr>\n",
       "      <th>7</th>\n",
       "      <td>L.</td>\n",
       "    </tr>\n",
       "    <tr>\n",
       "      <th>8</th>\n",
       "      <td>J.</td>\n",
       "    </tr>\n",
       "    <tr>\n",
       "      <th>9</th>\n",
       "      <td>S.</td>\n",
       "    </tr>\n",
       "  </tbody>\n",
       "</table>\n",
       "</div>"
      ],
      "text/plain": [
       "  first_initial\n",
       "0            D.\n",
       "1            M.\n",
       "2            J.\n",
       "3            W.\n",
       "4            G.\n",
       "5            A.\n",
       "6            L.\n",
       "7            L.\n",
       "8            J.\n",
       "9            S."
      ]
     },
     "execution_count": 22,
     "metadata": {},
     "output_type": "execute_result"
    }
   ],
   "source": [
    "pd.read_sql(\"\"\"\n",
    "SELECT substr(firstName, 1, 1) || \".\" AS first_initial\n",
    "FROM employees;\n",
    "\"\"\", conn).head(10)"
   ]
  },
  {
   "cell_type": "markdown",
   "metadata": {},
   "source": [
    "We can also combine multiple column values, not just string literals. For example, below we combine the first and last name:"
   ]
  },
  {
   "cell_type": "code",
   "execution_count": 23,
   "metadata": {},
   "outputs": [
    {
     "data": {
      "application/vnd.microsoft.datawrangler.viewer.v0+json": {
       "columns": [
        {
         "name": "index",
         "rawType": "int64",
         "type": "integer"
        },
        {
         "name": "full_name",
         "rawType": "object",
         "type": "string"
        }
       ],
       "conversionMethod": "pd.DataFrame",
       "ref": "1fd2696b-a30e-4614-9681-10a61a765a16",
       "rows": [
        [
         "0",
         "DianeMurphy"
        ],
        [
         "1",
         "MaryPatterson"
        ],
        [
         "2",
         "JeffFirrelli"
        ],
        [
         "3",
         "WilliamPatterson"
        ],
        [
         "4",
         "GerardBondur"
        ],
        [
         "5",
         "AnthonyBow"
        ],
        [
         "6",
         "LeslieJennings"
        ],
        [
         "7",
         "LeslieThompson"
        ],
        [
         "8",
         "JulieFirrelli"
        ],
        [
         "9",
         "StevePatterson"
        ]
       ],
       "shape": {
        "columns": 1,
        "rows": 10
       }
      },
      "text/html": [
       "<div>\n",
       "<style scoped>\n",
       "    .dataframe tbody tr th:only-of-type {\n",
       "        vertical-align: middle;\n",
       "    }\n",
       "\n",
       "    .dataframe tbody tr th {\n",
       "        vertical-align: top;\n",
       "    }\n",
       "\n",
       "    .dataframe thead th {\n",
       "        text-align: right;\n",
       "    }\n",
       "</style>\n",
       "<table border=\"1\" class=\"dataframe\">\n",
       "  <thead>\n",
       "    <tr style=\"text-align: right;\">\n",
       "      <th></th>\n",
       "      <th>full_name</th>\n",
       "    </tr>\n",
       "  </thead>\n",
       "  <tbody>\n",
       "    <tr>\n",
       "      <th>0</th>\n",
       "      <td>DianeMurphy</td>\n",
       "    </tr>\n",
       "    <tr>\n",
       "      <th>1</th>\n",
       "      <td>MaryPatterson</td>\n",
       "    </tr>\n",
       "    <tr>\n",
       "      <th>2</th>\n",
       "      <td>JeffFirrelli</td>\n",
       "    </tr>\n",
       "    <tr>\n",
       "      <th>3</th>\n",
       "      <td>WilliamPatterson</td>\n",
       "    </tr>\n",
       "    <tr>\n",
       "      <th>4</th>\n",
       "      <td>GerardBondur</td>\n",
       "    </tr>\n",
       "    <tr>\n",
       "      <th>5</th>\n",
       "      <td>AnthonyBow</td>\n",
       "    </tr>\n",
       "    <tr>\n",
       "      <th>6</th>\n",
       "      <td>LeslieJennings</td>\n",
       "    </tr>\n",
       "    <tr>\n",
       "      <th>7</th>\n",
       "      <td>LeslieThompson</td>\n",
       "    </tr>\n",
       "    <tr>\n",
       "      <th>8</th>\n",
       "      <td>JulieFirrelli</td>\n",
       "    </tr>\n",
       "    <tr>\n",
       "      <th>9</th>\n",
       "      <td>StevePatterson</td>\n",
       "    </tr>\n",
       "  </tbody>\n",
       "</table>\n",
       "</div>"
      ],
      "text/plain": [
       "          full_name\n",
       "0       DianeMurphy\n",
       "1     MaryPatterson\n",
       "2      JeffFirrelli\n",
       "3  WilliamPatterson\n",
       "4      GerardBondur\n",
       "5        AnthonyBow\n",
       "6    LeslieJennings\n",
       "7    LeslieThompson\n",
       "8     JulieFirrelli\n",
       "9    StevePatterson"
      ]
     },
     "execution_count": 23,
     "metadata": {},
     "output_type": "execute_result"
    }
   ],
   "source": [
    "pd.read_sql(\"\"\"\n",
    "SELECT firstName || lastName AS full_name\n",
    "FROM employees;\n",
    "\"\"\", conn).head(10)"
   ]
  },
  {
   "cell_type": "markdown",
   "metadata": {},
   "source": [
    "Hmm, that looks a bit odd. Let's concatenate those column values with a space (`\" \"`) string literal:"
   ]
  },
  {
   "cell_type": "code",
   "execution_count": 24,
   "metadata": {},
   "outputs": [
    {
     "data": {
      "application/vnd.microsoft.datawrangler.viewer.v0+json": {
       "columns": [
        {
         "name": "index",
         "rawType": "int64",
         "type": "integer"
        },
        {
         "name": "full_name",
         "rawType": "object",
         "type": "string"
        }
       ],
       "conversionMethod": "pd.DataFrame",
       "ref": "9741033d-5382-45dc-9f10-bf9e2f3eb11f",
       "rows": [
        [
         "0",
         "Diane Murphy"
        ],
        [
         "1",
         "Mary Patterson"
        ],
        [
         "2",
         "Jeff Firrelli"
        ],
        [
         "3",
         "William Patterson"
        ],
        [
         "4",
         "Gerard Bondur"
        ],
        [
         "5",
         "Anthony Bow"
        ],
        [
         "6",
         "Leslie Jennings"
        ],
        [
         "7",
         "Leslie Thompson"
        ],
        [
         "8",
         "Julie Firrelli"
        ],
        [
         "9",
         "Steve Patterson"
        ]
       ],
       "shape": {
        "columns": 1,
        "rows": 10
       }
      },
      "text/html": [
       "<div>\n",
       "<style scoped>\n",
       "    .dataframe tbody tr th:only-of-type {\n",
       "        vertical-align: middle;\n",
       "    }\n",
       "\n",
       "    .dataframe tbody tr th {\n",
       "        vertical-align: top;\n",
       "    }\n",
       "\n",
       "    .dataframe thead th {\n",
       "        text-align: right;\n",
       "    }\n",
       "</style>\n",
       "<table border=\"1\" class=\"dataframe\">\n",
       "  <thead>\n",
       "    <tr style=\"text-align: right;\">\n",
       "      <th></th>\n",
       "      <th>full_name</th>\n",
       "    </tr>\n",
       "  </thead>\n",
       "  <tbody>\n",
       "    <tr>\n",
       "      <th>0</th>\n",
       "      <td>Diane Murphy</td>\n",
       "    </tr>\n",
       "    <tr>\n",
       "      <th>1</th>\n",
       "      <td>Mary Patterson</td>\n",
       "    </tr>\n",
       "    <tr>\n",
       "      <th>2</th>\n",
       "      <td>Jeff Firrelli</td>\n",
       "    </tr>\n",
       "    <tr>\n",
       "      <th>3</th>\n",
       "      <td>William Patterson</td>\n",
       "    </tr>\n",
       "    <tr>\n",
       "      <th>4</th>\n",
       "      <td>Gerard Bondur</td>\n",
       "    </tr>\n",
       "    <tr>\n",
       "      <th>5</th>\n",
       "      <td>Anthony Bow</td>\n",
       "    </tr>\n",
       "    <tr>\n",
       "      <th>6</th>\n",
       "      <td>Leslie Jennings</td>\n",
       "    </tr>\n",
       "    <tr>\n",
       "      <th>7</th>\n",
       "      <td>Leslie Thompson</td>\n",
       "    </tr>\n",
       "    <tr>\n",
       "      <th>8</th>\n",
       "      <td>Julie Firrelli</td>\n",
       "    </tr>\n",
       "    <tr>\n",
       "      <th>9</th>\n",
       "      <td>Steve Patterson</td>\n",
       "    </tr>\n",
       "  </tbody>\n",
       "</table>\n",
       "</div>"
      ],
      "text/plain": [
       "           full_name\n",
       "0       Diane Murphy\n",
       "1     Mary Patterson\n",
       "2      Jeff Firrelli\n",
       "3  William Patterson\n",
       "4      Gerard Bondur\n",
       "5        Anthony Bow\n",
       "6    Leslie Jennings\n",
       "7    Leslie Thompson\n",
       "8     Julie Firrelli\n",
       "9    Steve Patterson"
      ]
     },
     "execution_count": 24,
     "metadata": {},
     "output_type": "execute_result"
    }
   ],
   "source": [
    "pd.read_sql(\"\"\"\n",
    "SELECT firstName || \" \" || lastName AS full_name\n",
    "FROM employees;\n",
    "\"\"\", conn).head(10)"
   ]
  },
  {
   "cell_type": "markdown",
   "metadata": {},
   "source": [
    "That looks better!"
   ]
  },
  {
   "cell_type": "markdown",
   "metadata": {},
   "source": [
    "### Built-in SQL Functions for Math Operations\n",
    "\n",
    "For these examples, let's switch over to using the `orderDetails` table:"
   ]
  },
  {
   "cell_type": "code",
   "execution_count": 25,
   "metadata": {},
   "outputs": [
    {
     "data": {
      "application/vnd.microsoft.datawrangler.viewer.v0+json": {
       "columns": [
        {
         "name": "index",
         "rawType": "int64",
         "type": "integer"
        },
        {
         "name": "orderNumber",
         "rawType": "object",
         "type": "string"
        },
        {
         "name": "productCode",
         "rawType": "object",
         "type": "string"
        },
        {
         "name": "quantityOrdered",
         "rawType": "object",
         "type": "string"
        },
        {
         "name": "priceEach",
         "rawType": "object",
         "type": "string"
        },
        {
         "name": "orderLineNumber",
         "rawType": "object",
         "type": "string"
        }
       ],
       "conversionMethod": "pd.DataFrame",
       "ref": "e22fd221-1732-4b7d-ad2f-e13d79b902fa",
       "rows": [
        [
         "0",
         "10100",
         "S18_1749",
         "30",
         "136.00",
         "3"
        ],
        [
         "1",
         "10100",
         "S18_2248",
         "50",
         "55.09",
         "2"
        ],
        [
         "2",
         "10100",
         "S18_4409",
         "22",
         "75.46",
         "4"
        ],
        [
         "3",
         "10100",
         "S24_3969",
         "49",
         "35.29",
         "1"
        ],
        [
         "4",
         "10101",
         "S18_2325",
         "25",
         "108.06",
         "4"
        ],
        [
         "5",
         "10101",
         "S18_2795",
         "26",
         "167.06",
         "1"
        ],
        [
         "6",
         "10101",
         "S24_1937",
         "45",
         "32.53",
         "3"
        ],
        [
         "7",
         "10101",
         "S24_2022",
         "46",
         "44.35",
         "2"
        ],
        [
         "8",
         "10102",
         "S18_1342",
         "39",
         "95.55",
         "2"
        ],
        [
         "9",
         "10102",
         "S18_1367",
         "41",
         "43.13",
         "1"
        ],
        [
         "10",
         "10103",
         "S10_1949",
         "26",
         "214.30",
         "11"
        ],
        [
         "11",
         "10103",
         "S10_4962",
         "42",
         "119.67",
         "4"
        ],
        [
         "12",
         "10103",
         "S12_1666",
         "27",
         "121.64",
         "8"
        ],
        [
         "13",
         "10103",
         "S18_1097",
         "35",
         "94.50",
         "10"
        ],
        [
         "14",
         "10103",
         "S18_2432",
         "22",
         "58.34",
         "2"
        ],
        [
         "15",
         "10103",
         "S18_2949",
         "27",
         "92.19",
         "12"
        ],
        [
         "16",
         "10103",
         "S18_2957",
         "35",
         "61.84",
         "14"
        ],
        [
         "17",
         "10103",
         "S18_3136",
         "25",
         "86.92",
         "13"
        ],
        [
         "18",
         "10103",
         "S18_3320",
         "46",
         "86.31",
         "16"
        ],
        [
         "19",
         "10103",
         "S18_4600",
         "36",
         "98.07",
         "5"
        ],
        [
         "20",
         "10103",
         "S18_4668",
         "41",
         "40.75",
         "9"
        ],
        [
         "21",
         "10103",
         "S24_2300",
         "36",
         "107.34",
         "1"
        ],
        [
         "22",
         "10103",
         "S24_4258",
         "25",
         "88.62",
         "15"
        ],
        [
         "23",
         "10103",
         "S32_1268",
         "31",
         "92.46",
         "3"
        ],
        [
         "24",
         "10103",
         "S32_3522",
         "45",
         "63.35",
         "7"
        ],
        [
         "25",
         "10103",
         "S700_2824",
         "42",
         "94.07",
         "6"
        ],
        [
         "26",
         "10104",
         "S12_3148",
         "34",
         "131.44",
         "1"
        ],
        [
         "27",
         "10104",
         "S12_4473",
         "41",
         "111.39",
         "9"
        ],
        [
         "28",
         "10104",
         "S18_2238",
         "24",
         "135.90",
         "8"
        ],
        [
         "29",
         "10104",
         "S18_2319",
         "29",
         "122.73",
         "12"
        ],
        [
         "30",
         "10104",
         "S18_3232",
         "23",
         "165.95",
         "13"
        ],
        [
         "31",
         "10104",
         "S18_4027",
         "38",
         "119.20",
         "3"
        ],
        [
         "32",
         "10104",
         "S24_1444",
         "35",
         "52.02",
         "6"
        ],
        [
         "33",
         "10104",
         "S24_2840",
         "44",
         "30.41",
         "10"
        ],
        [
         "34",
         "10104",
         "S24_4048",
         "26",
         "106.45",
         "5"
        ],
        [
         "35",
         "10104",
         "S32_2509",
         "35",
         "51.95",
         "11"
        ],
        [
         "36",
         "10104",
         "S32_3207",
         "49",
         "56.55",
         "4"
        ],
        [
         "37",
         "10104",
         "S50_1392",
         "33",
         "114.59",
         "7"
        ],
        [
         "38",
         "10104",
         "S50_1514",
         "32",
         "53.31",
         "2"
        ],
        [
         "39",
         "10105",
         "S10_4757",
         "50",
         "127.84",
         "2"
        ],
        [
         "40",
         "10105",
         "S12_1108",
         "41",
         "205.72",
         "15"
        ],
        [
         "41",
         "10105",
         "S12_3891",
         "29",
         "141.88",
         "14"
        ],
        [
         "42",
         "10105",
         "S18_3140",
         "22",
         "136.59",
         "11"
        ],
        [
         "43",
         "10105",
         "S18_3259",
         "38",
         "87.73",
         "13"
        ],
        [
         "44",
         "10105",
         "S18_4522",
         "41",
         "75.48",
         "10"
        ],
        [
         "45",
         "10105",
         "S24_2011",
         "43",
         "117.97",
         "9"
        ],
        [
         "46",
         "10105",
         "S24_3151",
         "44",
         "73.46",
         "4"
        ],
        [
         "47",
         "10105",
         "S24_3816",
         "50",
         "75.47",
         "1"
        ],
        [
         "48",
         "10105",
         "S700_1138",
         "41",
         "54.00",
         "5"
        ],
        [
         "49",
         "10105",
         "S700_1938",
         "29",
         "86.61",
         "12"
        ]
       ],
       "shape": {
        "columns": 5,
        "rows": 2996
       }
      },
      "text/html": [
       "<div>\n",
       "<style scoped>\n",
       "    .dataframe tbody tr th:only-of-type {\n",
       "        vertical-align: middle;\n",
       "    }\n",
       "\n",
       "    .dataframe tbody tr th {\n",
       "        vertical-align: top;\n",
       "    }\n",
       "\n",
       "    .dataframe thead th {\n",
       "        text-align: right;\n",
       "    }\n",
       "</style>\n",
       "<table border=\"1\" class=\"dataframe\">\n",
       "  <thead>\n",
       "    <tr style=\"text-align: right;\">\n",
       "      <th></th>\n",
       "      <th>orderNumber</th>\n",
       "      <th>productCode</th>\n",
       "      <th>quantityOrdered</th>\n",
       "      <th>priceEach</th>\n",
       "      <th>orderLineNumber</th>\n",
       "    </tr>\n",
       "  </thead>\n",
       "  <tbody>\n",
       "    <tr>\n",
       "      <th>0</th>\n",
       "      <td>10100</td>\n",
       "      <td>S18_1749</td>\n",
       "      <td>30</td>\n",
       "      <td>136.00</td>\n",
       "      <td>3</td>\n",
       "    </tr>\n",
       "    <tr>\n",
       "      <th>1</th>\n",
       "      <td>10100</td>\n",
       "      <td>S18_2248</td>\n",
       "      <td>50</td>\n",
       "      <td>55.09</td>\n",
       "      <td>2</td>\n",
       "    </tr>\n",
       "    <tr>\n",
       "      <th>2</th>\n",
       "      <td>10100</td>\n",
       "      <td>S18_4409</td>\n",
       "      <td>22</td>\n",
       "      <td>75.46</td>\n",
       "      <td>4</td>\n",
       "    </tr>\n",
       "    <tr>\n",
       "      <th>3</th>\n",
       "      <td>10100</td>\n",
       "      <td>S24_3969</td>\n",
       "      <td>49</td>\n",
       "      <td>35.29</td>\n",
       "      <td>1</td>\n",
       "    </tr>\n",
       "    <tr>\n",
       "      <th>4</th>\n",
       "      <td>10101</td>\n",
       "      <td>S18_2325</td>\n",
       "      <td>25</td>\n",
       "      <td>108.06</td>\n",
       "      <td>4</td>\n",
       "    </tr>\n",
       "    <tr>\n",
       "      <th>...</th>\n",
       "      <td>...</td>\n",
       "      <td>...</td>\n",
       "      <td>...</td>\n",
       "      <td>...</td>\n",
       "      <td>...</td>\n",
       "    </tr>\n",
       "    <tr>\n",
       "      <th>2991</th>\n",
       "      <td>10425</td>\n",
       "      <td>S24_2300</td>\n",
       "      <td>49</td>\n",
       "      <td>127.79</td>\n",
       "      <td>9</td>\n",
       "    </tr>\n",
       "    <tr>\n",
       "      <th>2992</th>\n",
       "      <td>10425</td>\n",
       "      <td>S24_2840</td>\n",
       "      <td>31</td>\n",
       "      <td>31.82</td>\n",
       "      <td>5</td>\n",
       "    </tr>\n",
       "    <tr>\n",
       "      <th>2993</th>\n",
       "      <td>10425</td>\n",
       "      <td>S32_1268</td>\n",
       "      <td>41</td>\n",
       "      <td>83.79</td>\n",
       "      <td>11</td>\n",
       "    </tr>\n",
       "    <tr>\n",
       "      <th>2994</th>\n",
       "      <td>10425</td>\n",
       "      <td>S32_2509</td>\n",
       "      <td>11</td>\n",
       "      <td>50.32</td>\n",
       "      <td>6</td>\n",
       "    </tr>\n",
       "    <tr>\n",
       "      <th>2995</th>\n",
       "      <td>10425</td>\n",
       "      <td>S50_1392</td>\n",
       "      <td>18</td>\n",
       "      <td>94.92</td>\n",
       "      <td>2</td>\n",
       "    </tr>\n",
       "  </tbody>\n",
       "</table>\n",
       "<p>2996 rows × 5 columns</p>\n",
       "</div>"
      ],
      "text/plain": [
       "     orderNumber productCode quantityOrdered priceEach orderLineNumber\n",
       "0          10100    S18_1749              30    136.00               3\n",
       "1          10100    S18_2248              50     55.09               2\n",
       "2          10100    S18_4409              22     75.46               4\n",
       "3          10100    S24_3969              49     35.29               1\n",
       "4          10101    S18_2325              25    108.06               4\n",
       "...          ...         ...             ...       ...             ...\n",
       "2991       10425    S24_2300              49    127.79               9\n",
       "2992       10425    S24_2840              31     31.82               5\n",
       "2993       10425    S32_1268              41     83.79              11\n",
       "2994       10425    S32_2509              11     50.32               6\n",
       "2995       10425    S50_1392              18     94.92               2\n",
       "\n",
       "[2996 rows x 5 columns]"
      ]
     },
     "execution_count": 25,
     "metadata": {},
     "output_type": "execute_result"
    }
   ],
   "source": [
    "pd.read_sql(\"\"\"SELECT * FROM orderDetails;\"\"\", conn)"
   ]
  },
  {
   "cell_type": "markdown",
   "metadata": {},
   "source": [
    "#### `round`\n",
    "\n",
    "Let's say we wanted to round the price to the nearest dollar. We could use the SQL `round` function ([documentation here](https://www.sqlite.org/lang_corefunc.html#round)), which is very similar to the the Python `round`:"
   ]
  },
  {
   "cell_type": "code",
   "execution_count": 26,
   "metadata": {},
   "outputs": [
    {
     "data": {
      "application/vnd.microsoft.datawrangler.viewer.v0+json": {
       "columns": [
        {
         "name": "index",
         "rawType": "int64",
         "type": "integer"
        },
        {
         "name": "rounded_price",
         "rawType": "float64",
         "type": "float"
        }
       ],
       "conversionMethod": "pd.DataFrame",
       "ref": "590c8a4c-2c03-4758-8da7-238271745b2a",
       "rows": [
        [
         "0",
         "136.0"
        ],
        [
         "1",
         "55.0"
        ],
        [
         "2",
         "75.0"
        ],
        [
         "3",
         "35.0"
        ],
        [
         "4",
         "108.0"
        ],
        [
         "5",
         "167.0"
        ],
        [
         "6",
         "33.0"
        ],
        [
         "7",
         "44.0"
        ],
        [
         "8",
         "96.0"
        ],
        [
         "9",
         "43.0"
        ],
        [
         "10",
         "214.0"
        ],
        [
         "11",
         "120.0"
        ],
        [
         "12",
         "122.0"
        ],
        [
         "13",
         "95.0"
        ],
        [
         "14",
         "58.0"
        ],
        [
         "15",
         "92.0"
        ],
        [
         "16",
         "62.0"
        ],
        [
         "17",
         "87.0"
        ],
        [
         "18",
         "86.0"
        ],
        [
         "19",
         "98.0"
        ],
        [
         "20",
         "41.0"
        ],
        [
         "21",
         "107.0"
        ],
        [
         "22",
         "89.0"
        ],
        [
         "23",
         "92.0"
        ],
        [
         "24",
         "63.0"
        ],
        [
         "25",
         "94.0"
        ],
        [
         "26",
         "131.0"
        ],
        [
         "27",
         "111.0"
        ],
        [
         "28",
         "136.0"
        ],
        [
         "29",
         "123.0"
        ],
        [
         "30",
         "166.0"
        ],
        [
         "31",
         "119.0"
        ],
        [
         "32",
         "52.0"
        ],
        [
         "33",
         "30.0"
        ],
        [
         "34",
         "106.0"
        ],
        [
         "35",
         "52.0"
        ],
        [
         "36",
         "57.0"
        ],
        [
         "37",
         "115.0"
        ],
        [
         "38",
         "53.0"
        ],
        [
         "39",
         "128.0"
        ],
        [
         "40",
         "206.0"
        ],
        [
         "41",
         "142.0"
        ],
        [
         "42",
         "137.0"
        ],
        [
         "43",
         "88.0"
        ],
        [
         "44",
         "75.0"
        ],
        [
         "45",
         "118.0"
        ],
        [
         "46",
         "73.0"
        ],
        [
         "47",
         "75.0"
        ],
        [
         "48",
         "54.0"
        ],
        [
         "49",
         "87.0"
        ]
       ],
       "shape": {
        "columns": 1,
        "rows": 2996
       }
      },
      "text/html": [
       "<div>\n",
       "<style scoped>\n",
       "    .dataframe tbody tr th:only-of-type {\n",
       "        vertical-align: middle;\n",
       "    }\n",
       "\n",
       "    .dataframe tbody tr th {\n",
       "        vertical-align: top;\n",
       "    }\n",
       "\n",
       "    .dataframe thead th {\n",
       "        text-align: right;\n",
       "    }\n",
       "</style>\n",
       "<table border=\"1\" class=\"dataframe\">\n",
       "  <thead>\n",
       "    <tr style=\"text-align: right;\">\n",
       "      <th></th>\n",
       "      <th>rounded_price</th>\n",
       "    </tr>\n",
       "  </thead>\n",
       "  <tbody>\n",
       "    <tr>\n",
       "      <th>0</th>\n",
       "      <td>136.0</td>\n",
       "    </tr>\n",
       "    <tr>\n",
       "      <th>1</th>\n",
       "      <td>55.0</td>\n",
       "    </tr>\n",
       "    <tr>\n",
       "      <th>2</th>\n",
       "      <td>75.0</td>\n",
       "    </tr>\n",
       "    <tr>\n",
       "      <th>3</th>\n",
       "      <td>35.0</td>\n",
       "    </tr>\n",
       "    <tr>\n",
       "      <th>4</th>\n",
       "      <td>108.0</td>\n",
       "    </tr>\n",
       "    <tr>\n",
       "      <th>...</th>\n",
       "      <td>...</td>\n",
       "    </tr>\n",
       "    <tr>\n",
       "      <th>2991</th>\n",
       "      <td>128.0</td>\n",
       "    </tr>\n",
       "    <tr>\n",
       "      <th>2992</th>\n",
       "      <td>32.0</td>\n",
       "    </tr>\n",
       "    <tr>\n",
       "      <th>2993</th>\n",
       "      <td>84.0</td>\n",
       "    </tr>\n",
       "    <tr>\n",
       "      <th>2994</th>\n",
       "      <td>50.0</td>\n",
       "    </tr>\n",
       "    <tr>\n",
       "      <th>2995</th>\n",
       "      <td>95.0</td>\n",
       "    </tr>\n",
       "  </tbody>\n",
       "</table>\n",
       "<p>2996 rows × 1 columns</p>\n",
       "</div>"
      ],
      "text/plain": [
       "      rounded_price\n",
       "0             136.0\n",
       "1              55.0\n",
       "2              75.0\n",
       "3              35.0\n",
       "4             108.0\n",
       "...             ...\n",
       "2991          128.0\n",
       "2992           32.0\n",
       "2993           84.0\n",
       "2994           50.0\n",
       "2995           95.0\n",
       "\n",
       "[2996 rows x 1 columns]"
      ]
     },
     "execution_count": 26,
     "metadata": {},
     "output_type": "execute_result"
    }
   ],
   "source": [
    "pd.read_sql(\"\"\"\n",
    "SELECT round(priceEach) AS rounded_price\n",
    "FROM orderDetails;\n",
    "\"\"\", conn)"
   ]
  },
  {
   "cell_type": "markdown",
   "metadata": {},
   "source": [
    "#### `CAST`\n",
    "\n",
    "The previous result looks ok, but it's returning floating point numbers. What if we want integers instead?\n",
    "\n",
    "In Python, we might apply the `int` built-in function. In SQLite, we can use a `CAST` expression ([documentation here](https://www.sqlite.org/lang_expr.html#castexpr)):"
   ]
  },
  {
   "cell_type": "code",
   "execution_count": 29,
   "metadata": {},
   "outputs": [
    {
     "data": {
      "application/vnd.microsoft.datawrangler.viewer.v0+json": {
       "columns": [
        {
         "name": "index",
         "rawType": "int64",
         "type": "integer"
        },
        {
         "name": "rounded_price_int",
         "rawType": "int64",
         "type": "integer"
        }
       ],
       "conversionMethod": "pd.DataFrame",
       "ref": "a92434cd-72a9-4157-9e76-0c65457130b5",
       "rows": [
        [
         "0",
         "136"
        ],
        [
         "1",
         "55"
        ],
        [
         "2",
         "75"
        ],
        [
         "3",
         "35"
        ],
        [
         "4",
         "108"
        ],
        [
         "5",
         "167"
        ],
        [
         "6",
         "33"
        ],
        [
         "7",
         "44"
        ],
        [
         "8",
         "96"
        ],
        [
         "9",
         "43"
        ],
        [
         "10",
         "214"
        ],
        [
         "11",
         "120"
        ],
        [
         "12",
         "122"
        ],
        [
         "13",
         "95"
        ],
        [
         "14",
         "58"
        ],
        [
         "15",
         "92"
        ],
        [
         "16",
         "62"
        ],
        [
         "17",
         "87"
        ],
        [
         "18",
         "86"
        ],
        [
         "19",
         "98"
        ],
        [
         "20",
         "41"
        ],
        [
         "21",
         "107"
        ],
        [
         "22",
         "89"
        ],
        [
         "23",
         "92"
        ],
        [
         "24",
         "63"
        ],
        [
         "25",
         "94"
        ],
        [
         "26",
         "131"
        ],
        [
         "27",
         "111"
        ],
        [
         "28",
         "136"
        ],
        [
         "29",
         "123"
        ],
        [
         "30",
         "166"
        ],
        [
         "31",
         "119"
        ],
        [
         "32",
         "52"
        ],
        [
         "33",
         "30"
        ],
        [
         "34",
         "106"
        ],
        [
         "35",
         "52"
        ],
        [
         "36",
         "57"
        ],
        [
         "37",
         "115"
        ],
        [
         "38",
         "53"
        ],
        [
         "39",
         "128"
        ],
        [
         "40",
         "206"
        ],
        [
         "41",
         "142"
        ],
        [
         "42",
         "137"
        ],
        [
         "43",
         "88"
        ],
        [
         "44",
         "75"
        ],
        [
         "45",
         "118"
        ],
        [
         "46",
         "73"
        ],
        [
         "47",
         "75"
        ],
        [
         "48",
         "54"
        ],
        [
         "49",
         "87"
        ]
       ],
       "shape": {
        "columns": 1,
        "rows": 2996
       }
      },
      "text/html": [
       "<div>\n",
       "<style scoped>\n",
       "    .dataframe tbody tr th:only-of-type {\n",
       "        vertical-align: middle;\n",
       "    }\n",
       "\n",
       "    .dataframe tbody tr th {\n",
       "        vertical-align: top;\n",
       "    }\n",
       "\n",
       "    .dataframe thead th {\n",
       "        text-align: right;\n",
       "    }\n",
       "</style>\n",
       "<table border=\"1\" class=\"dataframe\">\n",
       "  <thead>\n",
       "    <tr style=\"text-align: right;\">\n",
       "      <th></th>\n",
       "      <th>rounded_price_int</th>\n",
       "    </tr>\n",
       "  </thead>\n",
       "  <tbody>\n",
       "    <tr>\n",
       "      <th>0</th>\n",
       "      <td>136</td>\n",
       "    </tr>\n",
       "    <tr>\n",
       "      <th>1</th>\n",
       "      <td>55</td>\n",
       "    </tr>\n",
       "    <tr>\n",
       "      <th>2</th>\n",
       "      <td>75</td>\n",
       "    </tr>\n",
       "    <tr>\n",
       "      <th>3</th>\n",
       "      <td>35</td>\n",
       "    </tr>\n",
       "    <tr>\n",
       "      <th>4</th>\n",
       "      <td>108</td>\n",
       "    </tr>\n",
       "    <tr>\n",
       "      <th>...</th>\n",
       "      <td>...</td>\n",
       "    </tr>\n",
       "    <tr>\n",
       "      <th>2991</th>\n",
       "      <td>128</td>\n",
       "    </tr>\n",
       "    <tr>\n",
       "      <th>2992</th>\n",
       "      <td>32</td>\n",
       "    </tr>\n",
       "    <tr>\n",
       "      <th>2993</th>\n",
       "      <td>84</td>\n",
       "    </tr>\n",
       "    <tr>\n",
       "      <th>2994</th>\n",
       "      <td>50</td>\n",
       "    </tr>\n",
       "    <tr>\n",
       "      <th>2995</th>\n",
       "      <td>95</td>\n",
       "    </tr>\n",
       "  </tbody>\n",
       "</table>\n",
       "<p>2996 rows × 1 columns</p>\n",
       "</div>"
      ],
      "text/plain": [
       "      rounded_price_int\n",
       "0                   136\n",
       "1                    55\n",
       "2                    75\n",
       "3                    35\n",
       "4                   108\n",
       "...                 ...\n",
       "2991                128\n",
       "2992                 32\n",
       "2993                 84\n",
       "2994                 50\n",
       "2995                 95\n",
       "\n",
       "[2996 rows x 1 columns]"
      ]
     },
     "execution_count": 29,
     "metadata": {},
     "output_type": "execute_result"
    }
   ],
   "source": [
    "pd.read_sql(\"\"\"\n",
    "SELECT CAST(round(priceEach) AS INTEGER) AS rounded_price_int\n",
    "  FROM orderDetails;\n",
    "\"\"\", conn) # CAST function returns a value of a specified data type, which in this case is an INTEGER"
   ]
  },
  {
   "cell_type": "markdown",
   "metadata": {},
   "source": [
    "#### Basic Math Operations\n",
    "\n",
    "Just like when performing math operations with Python, you don't always need to use a function. Sometimes all you need is an operator like `+`, `-`, `/`, or `*`. For example, below we multiply the price times the quantity ordered to find the total price:"
   ]
  },
  {
   "cell_type": "code",
   "execution_count": 39,
   "metadata": {},
   "outputs": [
    {
     "data": {
      "application/vnd.microsoft.datawrangler.viewer.v0+json": {
       "columns": [
        {
         "name": "index",
         "rawType": "int64",
         "type": "integer"
        },
        {
         "name": "total_price",
         "rawType": "float64",
         "type": "float"
        }
       ],
       "conversionMethod": "pd.DataFrame",
       "ref": "904d34b7-c090-431e-b383-4a04fa497544",
       "rows": [
        [
         "0",
         "4080.0"
        ],
        [
         "1",
         "2755.0"
        ],
        [
         "2",
         "1660.0"
        ],
        [
         "3",
         "1729.0"
        ],
        [
         "4",
         "2702.0"
        ],
        [
         "5",
         "4344.0"
        ],
        [
         "6",
         "1464.0"
        ],
        [
         "7",
         "2040.0"
        ],
        [
         "8",
         "3726.0"
        ],
        [
         "9",
         "1768.0"
        ]
       ],
       "shape": {
        "columns": 1,
        "rows": 10
       }
      },
      "text/html": [
       "<div>\n",
       "<style scoped>\n",
       "    .dataframe tbody tr th:only-of-type {\n",
       "        vertical-align: middle;\n",
       "    }\n",
       "\n",
       "    .dataframe tbody tr th {\n",
       "        vertical-align: top;\n",
       "    }\n",
       "\n",
       "    .dataframe thead th {\n",
       "        text-align: right;\n",
       "    }\n",
       "</style>\n",
       "<table border=\"1\" class=\"dataframe\">\n",
       "  <thead>\n",
       "    <tr style=\"text-align: right;\">\n",
       "      <th></th>\n",
       "      <th>total_price</th>\n",
       "    </tr>\n",
       "  </thead>\n",
       "  <tbody>\n",
       "    <tr>\n",
       "      <th>0</th>\n",
       "      <td>4080.0</td>\n",
       "    </tr>\n",
       "    <tr>\n",
       "      <th>1</th>\n",
       "      <td>2755.0</td>\n",
       "    </tr>\n",
       "    <tr>\n",
       "      <th>2</th>\n",
       "      <td>1660.0</td>\n",
       "    </tr>\n",
       "    <tr>\n",
       "      <th>3</th>\n",
       "      <td>1729.0</td>\n",
       "    </tr>\n",
       "    <tr>\n",
       "      <th>4</th>\n",
       "      <td>2702.0</td>\n",
       "    </tr>\n",
       "    <tr>\n",
       "      <th>5</th>\n",
       "      <td>4344.0</td>\n",
       "    </tr>\n",
       "    <tr>\n",
       "      <th>6</th>\n",
       "      <td>1464.0</td>\n",
       "    </tr>\n",
       "    <tr>\n",
       "      <th>7</th>\n",
       "      <td>2040.0</td>\n",
       "    </tr>\n",
       "    <tr>\n",
       "      <th>8</th>\n",
       "      <td>3726.0</td>\n",
       "    </tr>\n",
       "    <tr>\n",
       "      <th>9</th>\n",
       "      <td>1768.0</td>\n",
       "    </tr>\n",
       "  </tbody>\n",
       "</table>\n",
       "</div>"
      ],
      "text/plain": [
       "   total_price\n",
       "0       4080.0\n",
       "1       2755.0\n",
       "2       1660.0\n",
       "3       1729.0\n",
       "4       2702.0\n",
       "5       4344.0\n",
       "6       1464.0\n",
       "7       2040.0\n",
       "8       3726.0\n",
       "9       1768.0"
      ]
     },
     "execution_count": 39,
     "metadata": {},
     "output_type": "execute_result"
    }
   ],
   "source": [
    "pd.read_sql(\"\"\"\n",
    "SELECT round(priceEach * quantityOrdered) AS total_price\n",
    "FROM orderDetails;\n",
    "\"\"\", conn).head(10)"
   ]
  },
  {
   "cell_type": "markdown",
   "metadata": {},
   "source": [
    "### Built-in SQL Functions for Date and Time Operations\n",
    "\n",
    "For these examples, we'll look at yet another table within the database, this time the `orders` table:"
   ]
  },
  {
   "cell_type": "code",
   "execution_count": 41,
   "metadata": {},
   "outputs": [
    {
     "data": {
      "application/vnd.microsoft.datawrangler.viewer.v0+json": {
       "columns": [
        {
         "name": "index",
         "rawType": "int64",
         "type": "integer"
        },
        {
         "name": "orderNumber",
         "rawType": "object",
         "type": "string"
        },
        {
         "name": "orderDate",
         "rawType": "object",
         "type": "string"
        },
        {
         "name": "requiredDate",
         "rawType": "object",
         "type": "string"
        },
        {
         "name": "shippedDate",
         "rawType": "object",
         "type": "string"
        },
        {
         "name": "status",
         "rawType": "object",
         "type": "string"
        },
        {
         "name": "comments",
         "rawType": "object",
         "type": "string"
        },
        {
         "name": "customerNumber",
         "rawType": "object",
         "type": "string"
        }
       ],
       "conversionMethod": "pd.DataFrame",
       "ref": "167e114b-0875-44fc-8bc9-dca4b6f28001",
       "rows": [
        [
         "0",
         "10100",
         "2003-01-06",
         "2003-01-13",
         "2003-01-10",
         "Shipped",
         "",
         "363"
        ],
        [
         "1",
         "10101",
         "2003-01-09",
         "2003-01-18",
         "2003-01-11",
         "Shipped",
         "Check on availability.",
         "128"
        ],
        [
         "2",
         "10102",
         "2003-01-10",
         "2003-01-18",
         "2003-01-14",
         "Shipped",
         "",
         "181"
        ],
        [
         "3",
         "10103",
         "2003-01-29",
         "2003-02-07",
         "2003-02-02",
         "Shipped",
         "",
         "121"
        ],
        [
         "4",
         "10104",
         "2003-01-31",
         "2003-02-09",
         "2003-02-01",
         "Shipped",
         "",
         "141"
        ],
        [
         "5",
         "10105",
         "2003-02-11",
         "2003-02-21",
         "2003-02-12",
         "Shipped",
         "",
         "145"
        ],
        [
         "6",
         "10106",
         "2003-02-17",
         "2003-02-24",
         "2003-02-21",
         "Shipped",
         "",
         "278"
        ],
        [
         "7",
         "10107",
         "2003-02-24",
         "2003-03-03",
         "2003-02-26",
         "Shipped",
         "Difficult to negotiate with customer. We need more marketing materials",
         "131"
        ],
        [
         "8",
         "10108",
         "2003-03-03",
         "2003-03-12",
         "2003-03-08",
         "Shipped",
         "",
         "385"
        ],
        [
         "9",
         "10109",
         "2003-03-10",
         "2003-03-19",
         "2003-03-11",
         "Shipped",
         "Customer requested that FedEx Ground is used for this shipping",
         "486"
        ]
       ],
       "shape": {
        "columns": 7,
        "rows": 10
       }
      },
      "text/html": [
       "<div>\n",
       "<style scoped>\n",
       "    .dataframe tbody tr th:only-of-type {\n",
       "        vertical-align: middle;\n",
       "    }\n",
       "\n",
       "    .dataframe tbody tr th {\n",
       "        vertical-align: top;\n",
       "    }\n",
       "\n",
       "    .dataframe thead th {\n",
       "        text-align: right;\n",
       "    }\n",
       "</style>\n",
       "<table border=\"1\" class=\"dataframe\">\n",
       "  <thead>\n",
       "    <tr style=\"text-align: right;\">\n",
       "      <th></th>\n",
       "      <th>orderNumber</th>\n",
       "      <th>orderDate</th>\n",
       "      <th>requiredDate</th>\n",
       "      <th>shippedDate</th>\n",
       "      <th>status</th>\n",
       "      <th>comments</th>\n",
       "      <th>customerNumber</th>\n",
       "    </tr>\n",
       "  </thead>\n",
       "  <tbody>\n",
       "    <tr>\n",
       "      <th>0</th>\n",
       "      <td>10100</td>\n",
       "      <td>2003-01-06</td>\n",
       "      <td>2003-01-13</td>\n",
       "      <td>2003-01-10</td>\n",
       "      <td>Shipped</td>\n",
       "      <td></td>\n",
       "      <td>363</td>\n",
       "    </tr>\n",
       "    <tr>\n",
       "      <th>1</th>\n",
       "      <td>10101</td>\n",
       "      <td>2003-01-09</td>\n",
       "      <td>2003-01-18</td>\n",
       "      <td>2003-01-11</td>\n",
       "      <td>Shipped</td>\n",
       "      <td>Check on availability.</td>\n",
       "      <td>128</td>\n",
       "    </tr>\n",
       "    <tr>\n",
       "      <th>2</th>\n",
       "      <td>10102</td>\n",
       "      <td>2003-01-10</td>\n",
       "      <td>2003-01-18</td>\n",
       "      <td>2003-01-14</td>\n",
       "      <td>Shipped</td>\n",
       "      <td></td>\n",
       "      <td>181</td>\n",
       "    </tr>\n",
       "    <tr>\n",
       "      <th>3</th>\n",
       "      <td>10103</td>\n",
       "      <td>2003-01-29</td>\n",
       "      <td>2003-02-07</td>\n",
       "      <td>2003-02-02</td>\n",
       "      <td>Shipped</td>\n",
       "      <td></td>\n",
       "      <td>121</td>\n",
       "    </tr>\n",
       "    <tr>\n",
       "      <th>4</th>\n",
       "      <td>10104</td>\n",
       "      <td>2003-01-31</td>\n",
       "      <td>2003-02-09</td>\n",
       "      <td>2003-02-01</td>\n",
       "      <td>Shipped</td>\n",
       "      <td></td>\n",
       "      <td>141</td>\n",
       "    </tr>\n",
       "    <tr>\n",
       "      <th>5</th>\n",
       "      <td>10105</td>\n",
       "      <td>2003-02-11</td>\n",
       "      <td>2003-02-21</td>\n",
       "      <td>2003-02-12</td>\n",
       "      <td>Shipped</td>\n",
       "      <td></td>\n",
       "      <td>145</td>\n",
       "    </tr>\n",
       "    <tr>\n",
       "      <th>6</th>\n",
       "      <td>10106</td>\n",
       "      <td>2003-02-17</td>\n",
       "      <td>2003-02-24</td>\n",
       "      <td>2003-02-21</td>\n",
       "      <td>Shipped</td>\n",
       "      <td></td>\n",
       "      <td>278</td>\n",
       "    </tr>\n",
       "    <tr>\n",
       "      <th>7</th>\n",
       "      <td>10107</td>\n",
       "      <td>2003-02-24</td>\n",
       "      <td>2003-03-03</td>\n",
       "      <td>2003-02-26</td>\n",
       "      <td>Shipped</td>\n",
       "      <td>Difficult to negotiate with customer. We need ...</td>\n",
       "      <td>131</td>\n",
       "    </tr>\n",
       "    <tr>\n",
       "      <th>8</th>\n",
       "      <td>10108</td>\n",
       "      <td>2003-03-03</td>\n",
       "      <td>2003-03-12</td>\n",
       "      <td>2003-03-08</td>\n",
       "      <td>Shipped</td>\n",
       "      <td></td>\n",
       "      <td>385</td>\n",
       "    </tr>\n",
       "    <tr>\n",
       "      <th>9</th>\n",
       "      <td>10109</td>\n",
       "      <td>2003-03-10</td>\n",
       "      <td>2003-03-19</td>\n",
       "      <td>2003-03-11</td>\n",
       "      <td>Shipped</td>\n",
       "      <td>Customer requested that FedEx Ground is used f...</td>\n",
       "      <td>486</td>\n",
       "    </tr>\n",
       "  </tbody>\n",
       "</table>\n",
       "</div>"
      ],
      "text/plain": [
       "  orderNumber   orderDate requiredDate shippedDate   status  \\\n",
       "0       10100  2003-01-06   2003-01-13  2003-01-10  Shipped   \n",
       "1       10101  2003-01-09   2003-01-18  2003-01-11  Shipped   \n",
       "2       10102  2003-01-10   2003-01-18  2003-01-14  Shipped   \n",
       "3       10103  2003-01-29   2003-02-07  2003-02-02  Shipped   \n",
       "4       10104  2003-01-31   2003-02-09  2003-02-01  Shipped   \n",
       "5       10105  2003-02-11   2003-02-21  2003-02-12  Shipped   \n",
       "6       10106  2003-02-17   2003-02-24  2003-02-21  Shipped   \n",
       "7       10107  2003-02-24   2003-03-03  2003-02-26  Shipped   \n",
       "8       10108  2003-03-03   2003-03-12  2003-03-08  Shipped   \n",
       "9       10109  2003-03-10   2003-03-19  2003-03-11  Shipped   \n",
       "\n",
       "                                            comments customerNumber  \n",
       "0                                                               363  \n",
       "1                             Check on availability.            128  \n",
       "2                                                               181  \n",
       "3                                                               121  \n",
       "4                                                               141  \n",
       "5                                                               145  \n",
       "6                                                               278  \n",
       "7  Difficult to negotiate with customer. We need ...            131  \n",
       "8                                                               385  \n",
       "9  Customer requested that FedEx Ground is used f...            486  "
      ]
     },
     "execution_count": 41,
     "metadata": {},
     "output_type": "execute_result"
    }
   ],
   "source": [
    "pd.read_sql(\"\"\"SELECT * FROM orders;\"\"\", conn).head(10)"
   ]
  },
  {
   "cell_type": "markdown",
   "metadata": {},
   "source": [
    "What if we wanted to know how many days there are between the `requiredDate` and the `orderDate` for each order? Intuitively you might try something like this:"
   ]
  },
  {
   "cell_type": "code",
   "execution_count": 44,
   "metadata": {},
   "outputs": [
    {
     "data": {
      "application/vnd.microsoft.datawrangler.viewer.v0+json": {
       "columns": [
        {
         "name": "index",
         "rawType": "int64",
         "type": "integer"
        },
        {
         "name": "requiredDate - orderDate",
         "rawType": "int64",
         "type": "integer"
        }
       ],
       "conversionMethod": "pd.DataFrame",
       "ref": "a445c987-2fd4-4632-b361-2132f09b9dc6",
       "rows": [
        [
         "0",
         "0"
        ],
        [
         "1",
         "0"
        ],
        [
         "2",
         "0"
        ],
        [
         "3",
         "0"
        ],
        [
         "4",
         "0"
        ],
        [
         "5",
         "0"
        ],
        [
         "6",
         "0"
        ],
        [
         "7",
         "0"
        ],
        [
         "8",
         "0"
        ],
        [
         "9",
         "0"
        ]
       ],
       "shape": {
        "columns": 1,
        "rows": 10
       }
      },
      "text/html": [
       "<div>\n",
       "<style scoped>\n",
       "    .dataframe tbody tr th:only-of-type {\n",
       "        vertical-align: middle;\n",
       "    }\n",
       "\n",
       "    .dataframe tbody tr th {\n",
       "        vertical-align: top;\n",
       "    }\n",
       "\n",
       "    .dataframe thead th {\n",
       "        text-align: right;\n",
       "    }\n",
       "</style>\n",
       "<table border=\"1\" class=\"dataframe\">\n",
       "  <thead>\n",
       "    <tr style=\"text-align: right;\">\n",
       "      <th></th>\n",
       "      <th>requiredDate - orderDate</th>\n",
       "    </tr>\n",
       "  </thead>\n",
       "  <tbody>\n",
       "    <tr>\n",
       "      <th>0</th>\n",
       "      <td>0</td>\n",
       "    </tr>\n",
       "    <tr>\n",
       "      <th>1</th>\n",
       "      <td>0</td>\n",
       "    </tr>\n",
       "    <tr>\n",
       "      <th>2</th>\n",
       "      <td>0</td>\n",
       "    </tr>\n",
       "    <tr>\n",
       "      <th>3</th>\n",
       "      <td>0</td>\n",
       "    </tr>\n",
       "    <tr>\n",
       "      <th>4</th>\n",
       "      <td>0</td>\n",
       "    </tr>\n",
       "    <tr>\n",
       "      <th>5</th>\n",
       "      <td>0</td>\n",
       "    </tr>\n",
       "    <tr>\n",
       "      <th>6</th>\n",
       "      <td>0</td>\n",
       "    </tr>\n",
       "    <tr>\n",
       "      <th>7</th>\n",
       "      <td>0</td>\n",
       "    </tr>\n",
       "    <tr>\n",
       "      <th>8</th>\n",
       "      <td>0</td>\n",
       "    </tr>\n",
       "    <tr>\n",
       "      <th>9</th>\n",
       "      <td>0</td>\n",
       "    </tr>\n",
       "  </tbody>\n",
       "</table>\n",
       "</div>"
      ],
      "text/plain": [
       "   requiredDate - orderDate\n",
       "0                         0\n",
       "1                         0\n",
       "2                         0\n",
       "3                         0\n",
       "4                         0\n",
       "5                         0\n",
       "6                         0\n",
       "7                         0\n",
       "8                         0\n",
       "9                         0"
      ]
     },
     "execution_count": 44,
     "metadata": {},
     "output_type": "execute_result"
    }
   ],
   "source": [
    "pd.read_sql(\"\"\"\n",
    "SELECT requiredDate - orderDate\n",
    "FROM orders;\n",
    "\"\"\", conn).head(10)"
   ]
  },
  {
   "cell_type": "markdown",
   "metadata": {},
   "source": [
    "Clearly that didn't work.\n",
    "\n",
    "It turns out that we need to specify that we want the difference in *days*. One way to do this is using the `julianday` function ([documentation here](https://www.sqlite.org/lang_datefunc.html)):"
   ]
  },
  {
   "cell_type": "code",
   "execution_count": 45,
   "metadata": {},
   "outputs": [
    {
     "data": {
      "application/vnd.microsoft.datawrangler.viewer.v0+json": {
       "columns": [
        {
         "name": "index",
         "rawType": "int64",
         "type": "integer"
        },
        {
         "name": "days_from_order_to_required",
         "rawType": "float64",
         "type": "float"
        }
       ],
       "conversionMethod": "pd.DataFrame",
       "ref": "8a5110dc-2c05-410c-9bb9-607ed5a41b07",
       "rows": [
        [
         "0",
         "7.0"
        ],
        [
         "1",
         "9.0"
        ],
        [
         "2",
         "8.0"
        ],
        [
         "3",
         "9.0"
        ],
        [
         "4",
         "9.0"
        ],
        [
         "5",
         "10.0"
        ],
        [
         "6",
         "7.0"
        ],
        [
         "7",
         "7.0"
        ],
        [
         "8",
         "9.0"
        ],
        [
         "9",
         "9.0"
        ],
        [
         "10",
         "6.0"
        ],
        [
         "11",
         "6.0"
        ],
        [
         "12",
         "10.0"
        ],
        [
         "13",
         "7.0"
        ],
        [
         "14",
         "6.0"
        ],
        [
         "15",
         "8.0"
        ],
        [
         "16",
         "8.0"
        ],
        [
         "17",
         "8.0"
        ],
        [
         "18",
         "8.0"
        ],
        [
         "19",
         "7.0"
        ],
        [
         "20",
         "9.0"
        ],
        [
         "21",
         "6.0"
        ],
        [
         "22",
         "8.0"
        ],
        [
         "23",
         "9.0"
        ],
        [
         "24",
         "8.0"
        ],
        [
         "25",
         "6.0"
        ],
        [
         "26",
         "10.0"
        ],
        [
         "27",
         "6.0"
        ],
        [
         "28",
         "6.0"
        ],
        [
         "29",
         "6.0"
        ],
        [
         "30",
         "8.0"
        ],
        [
         "31",
         "9.0"
        ],
        [
         "32",
         "6.0"
        ],
        [
         "33",
         "7.0"
        ],
        [
         "34",
         "9.0"
        ],
        [
         "35",
         "10.0"
        ],
        [
         "36",
         "10.0"
        ],
        [
         "37",
         "10.0"
        ],
        [
         "38",
         "9.0"
        ],
        [
         "39",
         "7.0"
        ],
        [
         "40",
         "9.0"
        ],
        [
         "41",
         "8.0"
        ],
        [
         "42",
         "8.0"
        ],
        [
         "43",
         "8.0"
        ],
        [
         "44",
         "8.0"
        ],
        [
         "45",
         "8.0"
        ],
        [
         "46",
         "10.0"
        ],
        [
         "47",
         "7.0"
        ],
        [
         "48",
         "10.0"
        ],
        [
         "49",
         "6.0"
        ]
       ],
       "shape": {
        "columns": 1,
        "rows": 326
       }
      },
      "text/html": [
       "<div>\n",
       "<style scoped>\n",
       "    .dataframe tbody tr th:only-of-type {\n",
       "        vertical-align: middle;\n",
       "    }\n",
       "\n",
       "    .dataframe tbody tr th {\n",
       "        vertical-align: top;\n",
       "    }\n",
       "\n",
       "    .dataframe thead th {\n",
       "        text-align: right;\n",
       "    }\n",
       "</style>\n",
       "<table border=\"1\" class=\"dataframe\">\n",
       "  <thead>\n",
       "    <tr style=\"text-align: right;\">\n",
       "      <th></th>\n",
       "      <th>days_from_order_to_required</th>\n",
       "    </tr>\n",
       "  </thead>\n",
       "  <tbody>\n",
       "    <tr>\n",
       "      <th>0</th>\n",
       "      <td>7.0</td>\n",
       "    </tr>\n",
       "    <tr>\n",
       "      <th>1</th>\n",
       "      <td>9.0</td>\n",
       "    </tr>\n",
       "    <tr>\n",
       "      <th>2</th>\n",
       "      <td>8.0</td>\n",
       "    </tr>\n",
       "    <tr>\n",
       "      <th>3</th>\n",
       "      <td>9.0</td>\n",
       "    </tr>\n",
       "    <tr>\n",
       "      <th>4</th>\n",
       "      <td>9.0</td>\n",
       "    </tr>\n",
       "    <tr>\n",
       "      <th>...</th>\n",
       "      <td>...</td>\n",
       "    </tr>\n",
       "    <tr>\n",
       "      <th>321</th>\n",
       "      <td>8.0</td>\n",
       "    </tr>\n",
       "    <tr>\n",
       "      <th>322</th>\n",
       "      <td>12.0</td>\n",
       "    </tr>\n",
       "    <tr>\n",
       "      <th>323</th>\n",
       "      <td>6.0</td>\n",
       "    </tr>\n",
       "    <tr>\n",
       "      <th>324</th>\n",
       "      <td>8.0</td>\n",
       "    </tr>\n",
       "    <tr>\n",
       "      <th>325</th>\n",
       "      <td>7.0</td>\n",
       "    </tr>\n",
       "  </tbody>\n",
       "</table>\n",
       "<p>326 rows × 1 columns</p>\n",
       "</div>"
      ],
      "text/plain": [
       "     days_from_order_to_required\n",
       "0                            7.0\n",
       "1                            9.0\n",
       "2                            8.0\n",
       "3                            9.0\n",
       "4                            9.0\n",
       "..                           ...\n",
       "321                          8.0\n",
       "322                         12.0\n",
       "323                          6.0\n",
       "324                          8.0\n",
       "325                          7.0\n",
       "\n",
       "[326 rows x 1 columns]"
      ]
     },
     "execution_count": 45,
     "metadata": {},
     "output_type": "execute_result"
    }
   ],
   "source": [
    "pd.read_sql(\"\"\"\n",
    "SELECT julianday(requiredDate) - julianday(orderDate) AS days_from_order_to_required\n",
    "FROM orders;\n",
    "\"\"\", conn)"
   ]
  },
  {
   "cell_type": "markdown",
   "metadata": {},
   "source": [
    "If we wanted to select the order dates as well as dates 1 week after the order dates, that would look like this:"
   ]
  },
  {
   "cell_type": "code",
   "execution_count": 46,
   "metadata": {},
   "outputs": [
    {
     "data": {
      "application/vnd.microsoft.datawrangler.viewer.v0+json": {
       "columns": [
        {
         "name": "index",
         "rawType": "int64",
         "type": "integer"
        },
        {
         "name": "orderDate",
         "rawType": "object",
         "type": "string"
        },
        {
         "name": "one_week_later",
         "rawType": "object",
         "type": "string"
        }
       ],
       "conversionMethod": "pd.DataFrame",
       "ref": "04622b90-00b4-4455-8cc3-2cf066096ca9",
       "rows": [
        [
         "0",
         "2003-01-06",
         "2003-01-13"
        ],
        [
         "1",
         "2003-01-09",
         "2003-01-16"
        ],
        [
         "2",
         "2003-01-10",
         "2003-01-17"
        ],
        [
         "3",
         "2003-01-29",
         "2003-02-05"
        ],
        [
         "4",
         "2003-01-31",
         "2003-02-07"
        ],
        [
         "5",
         "2003-02-11",
         "2003-02-18"
        ],
        [
         "6",
         "2003-02-17",
         "2003-02-24"
        ],
        [
         "7",
         "2003-02-24",
         "2003-03-03"
        ],
        [
         "8",
         "2003-03-03",
         "2003-03-10"
        ],
        [
         "9",
         "2003-03-10",
         "2003-03-17"
        ],
        [
         "10",
         "2003-03-18",
         "2003-03-25"
        ],
        [
         "11",
         "2003-03-25",
         "2003-04-01"
        ],
        [
         "12",
         "2003-03-24",
         "2003-03-31"
        ],
        [
         "13",
         "2003-03-26",
         "2003-04-02"
        ],
        [
         "14",
         "2003-04-01",
         "2003-04-08"
        ],
        [
         "15",
         "2003-04-04",
         "2003-04-11"
        ],
        [
         "16",
         "2003-04-11",
         "2003-04-18"
        ],
        [
         "17",
         "2003-04-16",
         "2003-04-23"
        ],
        [
         "18",
         "2003-04-21",
         "2003-04-28"
        ],
        [
         "19",
         "2003-04-28",
         "2003-05-05"
        ],
        [
         "20",
         "2003-04-29",
         "2003-05-06"
        ],
        [
         "21",
         "2003-05-07",
         "2003-05-14"
        ],
        [
         "22",
         "2003-05-08",
         "2003-05-15"
        ],
        [
         "23",
         "2003-05-20",
         "2003-05-27"
        ],
        [
         "24",
         "2003-05-21",
         "2003-05-28"
        ],
        [
         "25",
         "2003-05-21",
         "2003-05-28"
        ],
        [
         "26",
         "2003-05-28",
         "2003-06-04"
        ],
        [
         "27",
         "2003-06-03",
         "2003-06-10"
        ],
        [
         "28",
         "2003-06-06",
         "2003-06-13"
        ],
        [
         "29",
         "2003-06-12",
         "2003-06-19"
        ],
        [
         "30",
         "2003-06-16",
         "2003-06-23"
        ],
        [
         "31",
         "2003-06-16",
         "2003-06-23"
        ],
        [
         "32",
         "2003-06-25",
         "2003-07-02"
        ],
        [
         "33",
         "2003-06-27",
         "2003-07-04"
        ],
        [
         "34",
         "2003-07-01",
         "2003-07-08"
        ],
        [
         "35",
         "2003-07-02",
         "2003-07-09"
        ],
        [
         "36",
         "2003-07-04",
         "2003-07-11"
        ],
        [
         "37",
         "2003-07-10",
         "2003-07-17"
        ],
        [
         "38",
         "2003-07-07",
         "2003-07-14"
        ],
        [
         "39",
         "2003-07-16",
         "2003-07-23"
        ],
        [
         "40",
         "2003-07-24",
         "2003-07-31"
        ],
        [
         "41",
         "2003-08-01",
         "2003-08-08"
        ],
        [
         "42",
         "2003-08-08",
         "2003-08-15"
        ],
        [
         "43",
         "2003-08-10",
         "2003-08-17"
        ],
        [
         "44",
         "2003-08-13",
         "2003-08-20"
        ],
        [
         "45",
         "2003-08-25",
         "2003-09-01"
        ],
        [
         "46",
         "2003-09-03",
         "2003-09-10"
        ],
        [
         "47",
         "2003-09-05",
         "2003-09-12"
        ],
        [
         "48",
         "2003-09-11",
         "2003-09-18"
        ],
        [
         "49",
         "2003-09-12",
         "2003-09-19"
        ]
       ],
       "shape": {
        "columns": 2,
        "rows": 326
       }
      },
      "text/html": [
       "<div>\n",
       "<style scoped>\n",
       "    .dataframe tbody tr th:only-of-type {\n",
       "        vertical-align: middle;\n",
       "    }\n",
       "\n",
       "    .dataframe tbody tr th {\n",
       "        vertical-align: top;\n",
       "    }\n",
       "\n",
       "    .dataframe thead th {\n",
       "        text-align: right;\n",
       "    }\n",
       "</style>\n",
       "<table border=\"1\" class=\"dataframe\">\n",
       "  <thead>\n",
       "    <tr style=\"text-align: right;\">\n",
       "      <th></th>\n",
       "      <th>orderDate</th>\n",
       "      <th>one_week_later</th>\n",
       "    </tr>\n",
       "  </thead>\n",
       "  <tbody>\n",
       "    <tr>\n",
       "      <th>0</th>\n",
       "      <td>2003-01-06</td>\n",
       "      <td>2003-01-13</td>\n",
       "    </tr>\n",
       "    <tr>\n",
       "      <th>1</th>\n",
       "      <td>2003-01-09</td>\n",
       "      <td>2003-01-16</td>\n",
       "    </tr>\n",
       "    <tr>\n",
       "      <th>2</th>\n",
       "      <td>2003-01-10</td>\n",
       "      <td>2003-01-17</td>\n",
       "    </tr>\n",
       "    <tr>\n",
       "      <th>3</th>\n",
       "      <td>2003-01-29</td>\n",
       "      <td>2003-02-05</td>\n",
       "    </tr>\n",
       "    <tr>\n",
       "      <th>4</th>\n",
       "      <td>2003-01-31</td>\n",
       "      <td>2003-02-07</td>\n",
       "    </tr>\n",
       "    <tr>\n",
       "      <th>...</th>\n",
       "      <td>...</td>\n",
       "      <td>...</td>\n",
       "    </tr>\n",
       "    <tr>\n",
       "      <th>321</th>\n",
       "      <td>2005-05-29</td>\n",
       "      <td>2005-06-05</td>\n",
       "    </tr>\n",
       "    <tr>\n",
       "      <th>322</th>\n",
       "      <td>2005-05-30</td>\n",
       "      <td>2005-06-06</td>\n",
       "    </tr>\n",
       "    <tr>\n",
       "      <th>323</th>\n",
       "      <td>2005-05-30</td>\n",
       "      <td>2005-06-06</td>\n",
       "    </tr>\n",
       "    <tr>\n",
       "      <th>324</th>\n",
       "      <td>2005-05-31</td>\n",
       "      <td>2005-06-07</td>\n",
       "    </tr>\n",
       "    <tr>\n",
       "      <th>325</th>\n",
       "      <td>2005-05-31</td>\n",
       "      <td>2005-06-07</td>\n",
       "    </tr>\n",
       "  </tbody>\n",
       "</table>\n",
       "<p>326 rows × 2 columns</p>\n",
       "</div>"
      ],
      "text/plain": [
       "      orderDate one_week_later\n",
       "0    2003-01-06     2003-01-13\n",
       "1    2003-01-09     2003-01-16\n",
       "2    2003-01-10     2003-01-17\n",
       "3    2003-01-29     2003-02-05\n",
       "4    2003-01-31     2003-02-07\n",
       "..          ...            ...\n",
       "321  2005-05-29     2005-06-05\n",
       "322  2005-05-30     2005-06-06\n",
       "323  2005-05-30     2005-06-06\n",
       "324  2005-05-31     2005-06-07\n",
       "325  2005-05-31     2005-06-07\n",
       "\n",
       "[326 rows x 2 columns]"
      ]
     },
     "execution_count": 46,
     "metadata": {},
     "output_type": "execute_result"
    }
   ],
   "source": [
    "pd.read_sql(\"\"\"\n",
    "SELECT orderDate, date(orderDate, \"+7 days\") AS one_week_later\n",
    "FROM orders;\n",
    "\"\"\", conn)"
   ]
  },
  {
   "cell_type": "markdown",
   "metadata": {},
   "source": [
    "You can also use the `strftime` function, which is very similar to the [Python version](https://docs.python.org/3/library/datetime.html#strftime-strptime-behavior). This is useful if you want to split apart a date or time value into different sub-parts. For example, here we extract the year, month, and day of month from the order date:"
   ]
  },
  {
   "cell_type": "code",
   "execution_count": 48,
   "metadata": {},
   "outputs": [
    {
     "data": {
      "application/vnd.microsoft.datawrangler.viewer.v0+json": {
       "columns": [
        {
         "name": "index",
         "rawType": "int64",
         "type": "integer"
        },
        {
         "name": "orderDate",
         "rawType": "object",
         "type": "string"
        },
        {
         "name": "month",
         "rawType": "object",
         "type": "string"
        },
        {
         "name": "year",
         "rawType": "object",
         "type": "string"
        },
        {
         "name": "day_of_week",
         "rawType": "object",
         "type": "string"
        }
       ],
       "conversionMethod": "pd.DataFrame",
       "ref": "c051f631-38ee-490a-bcc1-57db05c51a3d",
       "rows": [
        [
         "0",
         "2003-01-06",
         "01",
         "2003",
         "06"
        ],
        [
         "1",
         "2003-01-09",
         "01",
         "2003",
         "09"
        ],
        [
         "2",
         "2003-01-10",
         "01",
         "2003",
         "10"
        ],
        [
         "3",
         "2003-01-29",
         "01",
         "2003",
         "29"
        ],
        [
         "4",
         "2003-01-31",
         "01",
         "2003",
         "31"
        ],
        [
         "5",
         "2003-02-11",
         "02",
         "2003",
         "11"
        ],
        [
         "6",
         "2003-02-17",
         "02",
         "2003",
         "17"
        ],
        [
         "7",
         "2003-02-24",
         "02",
         "2003",
         "24"
        ],
        [
         "8",
         "2003-03-03",
         "03",
         "2003",
         "03"
        ],
        [
         "9",
         "2003-03-10",
         "03",
         "2003",
         "10"
        ]
       ],
       "shape": {
        "columns": 4,
        "rows": 10
       }
      },
      "text/html": [
       "<div>\n",
       "<style scoped>\n",
       "    .dataframe tbody tr th:only-of-type {\n",
       "        vertical-align: middle;\n",
       "    }\n",
       "\n",
       "    .dataframe tbody tr th {\n",
       "        vertical-align: top;\n",
       "    }\n",
       "\n",
       "    .dataframe thead th {\n",
       "        text-align: right;\n",
       "    }\n",
       "</style>\n",
       "<table border=\"1\" class=\"dataframe\">\n",
       "  <thead>\n",
       "    <tr style=\"text-align: right;\">\n",
       "      <th></th>\n",
       "      <th>orderDate</th>\n",
       "      <th>month</th>\n",
       "      <th>year</th>\n",
       "      <th>day_of_week</th>\n",
       "    </tr>\n",
       "  </thead>\n",
       "  <tbody>\n",
       "    <tr>\n",
       "      <th>0</th>\n",
       "      <td>2003-01-06</td>\n",
       "      <td>01</td>\n",
       "      <td>2003</td>\n",
       "      <td>06</td>\n",
       "    </tr>\n",
       "    <tr>\n",
       "      <th>1</th>\n",
       "      <td>2003-01-09</td>\n",
       "      <td>01</td>\n",
       "      <td>2003</td>\n",
       "      <td>09</td>\n",
       "    </tr>\n",
       "    <tr>\n",
       "      <th>2</th>\n",
       "      <td>2003-01-10</td>\n",
       "      <td>01</td>\n",
       "      <td>2003</td>\n",
       "      <td>10</td>\n",
       "    </tr>\n",
       "    <tr>\n",
       "      <th>3</th>\n",
       "      <td>2003-01-29</td>\n",
       "      <td>01</td>\n",
       "      <td>2003</td>\n",
       "      <td>29</td>\n",
       "    </tr>\n",
       "    <tr>\n",
       "      <th>4</th>\n",
       "      <td>2003-01-31</td>\n",
       "      <td>01</td>\n",
       "      <td>2003</td>\n",
       "      <td>31</td>\n",
       "    </tr>\n",
       "    <tr>\n",
       "      <th>5</th>\n",
       "      <td>2003-02-11</td>\n",
       "      <td>02</td>\n",
       "      <td>2003</td>\n",
       "      <td>11</td>\n",
       "    </tr>\n",
       "    <tr>\n",
       "      <th>6</th>\n",
       "      <td>2003-02-17</td>\n",
       "      <td>02</td>\n",
       "      <td>2003</td>\n",
       "      <td>17</td>\n",
       "    </tr>\n",
       "    <tr>\n",
       "      <th>7</th>\n",
       "      <td>2003-02-24</td>\n",
       "      <td>02</td>\n",
       "      <td>2003</td>\n",
       "      <td>24</td>\n",
       "    </tr>\n",
       "    <tr>\n",
       "      <th>8</th>\n",
       "      <td>2003-03-03</td>\n",
       "      <td>03</td>\n",
       "      <td>2003</td>\n",
       "      <td>03</td>\n",
       "    </tr>\n",
       "    <tr>\n",
       "      <th>9</th>\n",
       "      <td>2003-03-10</td>\n",
       "      <td>03</td>\n",
       "      <td>2003</td>\n",
       "      <td>10</td>\n",
       "    </tr>\n",
       "  </tbody>\n",
       "</table>\n",
       "</div>"
      ],
      "text/plain": [
       "    orderDate month  year day_of_week\n",
       "0  2003-01-06    01  2003          06\n",
       "1  2003-01-09    01  2003          09\n",
       "2  2003-01-10    01  2003          10\n",
       "3  2003-01-29    01  2003          29\n",
       "4  2003-01-31    01  2003          31\n",
       "5  2003-02-11    02  2003          11\n",
       "6  2003-02-17    02  2003          17\n",
       "7  2003-02-24    02  2003          24\n",
       "8  2003-03-03    03  2003          03\n",
       "9  2003-03-10    03  2003          10"
      ]
     },
     "execution_count": 48,
     "metadata": {},
     "output_type": "execute_result"
    }
   ],
   "source": [
    "pd.read_sql(\"\"\"\n",
    "SELECT orderDate,\n",
    "       strftime(\"%m\", orderDate) AS month,\n",
    "       strftime(\"%Y\", orderDate) AS year,\n",
    "       strftime(\"%d\", orderDate) AS day_of_week\n",
    "  FROM orders;\n",
    "\"\"\", conn).head(10)"
   ]
  },
  {
   "cell_type": "markdown",
   "metadata": {},
   "source": [
    "Now that we are finished with our queries, we can close the database connection."
   ]
  },
  {
   "cell_type": "code",
   "execution_count": 49,
   "metadata": {},
   "outputs": [],
   "source": [
    "conn.close()"
   ]
  },
  {
   "cell_type": "markdown",
   "metadata": {},
   "source": [
    "## Summary\n",
    "\n",
    "In this lesson, you saw how to execute several kinds of SQL `SELECT` queries. First, there were examples of specifying the selection of particular columns, rather than always using `SELECT *` to select all columns. Then you saw some examples of how to use `CASE` to transform column values using conditional logic. Finally, we walked through how to use built-in SQL functions, particularly for string, numeric, and date/time fields."
   ]
  }
 ],
 "metadata": {
  "kernelspec": {
   "display_name": "learn-env",
   "language": "python",
   "name": "python3"
  },
  "language_info": {
   "codemirror_mode": {
    "name": "ipython",
    "version": 3
   },
   "file_extension": ".py",
   "mimetype": "text/x-python",
   "name": "python",
   "nbconvert_exporter": "python",
   "pygments_lexer": "ipython3",
   "version": "3.8.5"
  },
  "toc": {
   "base_numbering": 1,
   "nav_menu": {},
   "number_sections": true,
   "sideBar": true,
   "skip_h1_title": false,
   "title_cell": "Table of Contents",
   "title_sidebar": "Contents",
   "toc_cell": false,
   "toc_position": {},
   "toc_section_display": true,
   "toc_window_display": false
  }
 },
 "nbformat": 4,
 "nbformat_minor": 2
}
